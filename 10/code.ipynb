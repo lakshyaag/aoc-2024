{
 "cells": [
  {
   "cell_type": "markdown",
   "metadata": {},
   "source": [
    "## Advent of Code 2024 - Day 10"
   ]
  },
  {
   "cell_type": "code",
   "execution_count": 1,
   "metadata": {},
   "outputs": [],
   "source": [
    "from rich import print\n",
    "from httpx import request\n",
    "import os\n",
    "import numpy as np\n",
    "from itertools import product\n",
    "\n",
    "%load_ext rich"
   ]
  },
  {
   "cell_type": "code",
   "execution_count": 2,
   "metadata": {},
   "outputs": [],
   "source": [
    "def parse_input(path):\n",
    "    # Read file and split into lines\n",
    "    with open(path, \"r\") as file:\n",
    "        result = file.read().splitlines()\n",
    "    # Optional: Remove any empty lines if needed\n",
    "    return [line for line in result if line]"
   ]
  },
  {
   "cell_type": "code",
   "execution_count": 3,
   "metadata": {},
   "outputs": [],
   "source": [
    "sample_input = parse_input(\"sample.txt\")\n",
    "sample_input_2 = parse_input(\"sample_2.txt\")\n",
    "actual_input = parse_input(\"input.txt\")"
   ]
  },
  {
   "cell_type": "markdown",
   "metadata": {},
   "source": [
    "## Part 1"
   ]
  },
  {
   "cell_type": "code",
   "execution_count": 4,
   "metadata": {},
   "outputs": [
    {
     "data": {
      "text/html": [
       "<pre style=\"white-space:pre;overflow-x:auto;line-height:normal;font-family:Menlo,'DejaVu Sans Mono',consolas,'Courier New',monospace\"></pre>\n"
      ],
      "text/plain": []
     },
     "metadata": {},
     "output_type": "display_data"
    },
    {
     "data": {
      "text/plain": [
       "\u001b[1m[\u001b[0m\u001b[32m'0123'\u001b[0m, \u001b[32m'1234'\u001b[0m, \u001b[32m'8765'\u001b[0m, \u001b[32m'9876'\u001b[0m\u001b[1m]\u001b[0m"
      ]
     },
     "execution_count": 4,
     "metadata": {},
     "output_type": "execute_result"
    }
   ],
   "source": [
    "sample_input\n"
   ]
  },
  {
   "cell_type": "code",
   "execution_count": 5,
   "metadata": {},
   "outputs": [
    {
     "data": {
      "text/html": [
       "<pre style=\"white-space:pre;overflow-x:auto;line-height:normal;font-family:Menlo,'DejaVu Sans Mono',consolas,'Courier New',monospace\"></pre>\n"
      ],
      "text/plain": []
     },
     "metadata": {},
     "output_type": "display_data"
    },
    {
     "data": {
      "text/plain": [
       "\u001b[1m[\u001b[0m\u001b[32m'89010123'\u001b[0m, \u001b[32m'78121874'\u001b[0m, \u001b[32m'87430965'\u001b[0m, \u001b[32m'96549874'\u001b[0m, \u001b[32m'45678903'\u001b[0m, \u001b[32m'32019012'\u001b[0m, \u001b[32m'01329801'\u001b[0m, \u001b[32m'10456732'\u001b[0m\u001b[1m]\u001b[0m"
      ]
     },
     "execution_count": 5,
     "metadata": {},
     "output_type": "execute_result"
    }
   ],
   "source": [
    "sample_input_2"
   ]
  },
  {
   "cell_type": "code",
   "execution_count": 6,
   "metadata": {},
   "outputs": [],
   "source": [
    "class PathFinder:\n",
    "    def __init__(self, floor_map):\n",
    "        self.floor_map = floor_map\n",
    "        self.m = len(floor_map)\n",
    "        self.n = len(floor_map[0])\n",
    "\n",
    "        self.visited = set()\n",
    "\n",
    "    def is_valid_move(self, x, y):\n",
    "        return 0 <= x < self.m and 0 <= y < self.n\n",
    "\n",
    "    def get_next_positions(self, x, y):\n",
    "        current_value = int(self.floor_map[x][y])\n",
    "        directions = [(x + 1, y), (x - 1, y), (x, y + 1), (x, y - 1)]\n",
    "        valid_moves = []\n",
    "\n",
    "        for new_x, new_y in directions:\n",
    "            if (\n",
    "                self.is_valid_move(new_x, new_y)\n",
    "                and int(self.floor_map[new_x][new_y]) == current_value + 1\n",
    "            ):\n",
    "                valid_moves.append((new_x, new_y))\n",
    "\n",
    "        return valid_moves\n",
    "\n",
    "    def find_paths_to_nine(self, x, y, target_nine=None, path=None):\n",
    "        if path is None:\n",
    "            path = ((x, y),)\n",
    "\n",
    "        current_value = int(self.floor_map[x][y])\n",
    "\n",
    "        if current_value == 9:\n",
    "            if (x, y) == target_nine:\n",
    "                self.visited.add(path)\n",
    "                return\n",
    "\n",
    "        next_positions = self.get_next_positions(x, y)\n",
    "\n",
    "        if not next_positions:\n",
    "            return\n",
    "\n",
    "        for next_x, next_y in next_positions:\n",
    "            if (next_x, next_y) not in path:  # Avoid cycles\n",
    "                self.find_paths_to_nine(\n",
    "                    next_x, next_y, target_nine, path + ((next_x, next_y),)\n",
    "                )"
   ]
  },
  {
   "cell_type": "code",
   "execution_count": 7,
   "metadata": {},
   "outputs": [],
   "source": [
    "def solution_1(input):\n",
    "    floor_map = np.array([[int(x) for x in line] for line in input])\n",
    "    m, n = len(floor_map), len(floor_map[0])\n",
    "\n",
    "    start_heads = [\n",
    "        (x, y) for x in range(m) for y in range(n) if int(floor_map[x][y]) == 0\n",
    "    ]\n",
    "    end_heads = [\n",
    "        (x, y) for x in range(m) for y in range(n) if int(floor_map[x][y]) == 9\n",
    "    ]\n",
    "\n",
    "    scores = {(x, y): 0 for (x, y) in start_heads}\n",
    "    for start, end in product(start_heads, end_heads):\n",
    "        pf = PathFinder(floor_map)\n",
    "        pf.find_paths_to_nine(start[0], start[1], end)\n",
    "        if pf.visited:\n",
    "            scores[(start)] += 1\n",
    "\n",
    "    return sum(scores.values())"
   ]
  },
  {
   "cell_type": "code",
   "execution_count": 8,
   "metadata": {},
   "outputs": [
    {
     "data": {
      "text/html": [
       "<pre style=\"white-space:pre;overflow-x:auto;line-height:normal;font-family:Menlo,'DejaVu Sans Mono',consolas,'Courier New',monospace\">Part <span style=\"color: #008080; text-decoration-color: #008080; font-weight: bold\">1</span> - Sample: <span style=\"color: #008080; text-decoration-color: #008080; font-weight: bold\">36</span>\n",
       "</pre>\n"
      ],
      "text/plain": [
       "Part \u001b[1;36m1\u001b[0m - Sample: \u001b[1;36m36\u001b[0m\n"
      ]
     },
     "metadata": {},
     "output_type": "display_data"
    },
    {
     "data": {
      "text/html": [
       "<pre style=\"white-space:pre;overflow-x:auto;line-height:normal;font-family:Menlo,'DejaVu Sans Mono',consolas,'Courier New',monospace\">Part <span style=\"color: #008080; text-decoration-color: #008080; font-weight: bold\">1</span> - Actual: <span style=\"color: #008080; text-decoration-color: #008080; font-weight: bold\">617</span>\n",
       "</pre>\n"
      ],
      "text/plain": [
       "Part \u001b[1;36m1\u001b[0m - Actual: \u001b[1;36m617\u001b[0m\n"
      ]
     },
     "metadata": {},
     "output_type": "display_data"
    }
   ],
   "source": [
    "print(f\"Part 1 - Sample: {solution_1(sample_input_2)}\")\n",
    "print(f\"Part 1 - Actual: {solution_1(actual_input)}\")\n"
   ]
  },
  {
   "cell_type": "markdown",
   "metadata": {},
   "source": [
    "## Part 2"
   ]
  },
  {
   "cell_type": "code",
   "execution_count": 9,
   "metadata": {},
   "outputs": [],
   "source": [
    "def solution_2(input):\n",
    "    floor_map = np.array([[int(x) for x in line] for line in input])\n",
    "    m, n = len(floor_map), len(floor_map[0])\n",
    "\n",
    "    start_heads = [\n",
    "        (x, y) for x in range(m) for y in range(n) if int(floor_map[x][y]) == 0\n",
    "    ]\n",
    "    end_heads = [\n",
    "        (x, y) for x in range(m) for y in range(n) if int(floor_map[x][y]) == 9\n",
    "    ]\n",
    "\n",
    "    scores = {(x, y): 0 for (x, y) in start_heads}\n",
    "    for start, end in product(start_heads, end_heads):\n",
    "        pf = PathFinder(floor_map)\n",
    "        pf.find_paths_to_nine(start[0], start[1], end)\n",
    "        if pf.visited:\n",
    "            scores[(start)] += len(pf.visited)\n",
    "\n",
    "    return sum(scores.values())"
   ]
  },
  {
   "cell_type": "code",
   "execution_count": 10,
   "metadata": {},
   "outputs": [
    {
     "data": {
      "text/html": [
       "<pre style=\"white-space:pre;overflow-x:auto;line-height:normal;font-family:Menlo,'DejaVu Sans Mono',consolas,'Courier New',monospace\">Part <span style=\"color: #008080; text-decoration-color: #008080; font-weight: bold\">2</span> - Sample: <span style=\"color: #008080; text-decoration-color: #008080; font-weight: bold\">81</span>\n",
       "</pre>\n"
      ],
      "text/plain": [
       "Part \u001b[1;36m2\u001b[0m - Sample: \u001b[1;36m81\u001b[0m\n"
      ]
     },
     "metadata": {},
     "output_type": "display_data"
    },
    {
     "data": {
      "text/html": [
       "<pre style=\"white-space:pre;overflow-x:auto;line-height:normal;font-family:Menlo,'DejaVu Sans Mono',consolas,'Courier New',monospace\">Part <span style=\"color: #008080; text-decoration-color: #008080; font-weight: bold\">2</span> - Actual: <span style=\"color: #008080; text-decoration-color: #008080; font-weight: bold\">1477</span>\n",
       "</pre>\n"
      ],
      "text/plain": [
       "Part \u001b[1;36m2\u001b[0m - Actual: \u001b[1;36m1477\u001b[0m\n"
      ]
     },
     "metadata": {},
     "output_type": "display_data"
    }
   ],
   "source": [
    "print(f\"Part 2 - Sample: {solution_2(sample_input_2)}\")\n",
    "print(f\"Part 2 - Actual: {solution_2(actual_input)}\")\n"
   ]
  }
 ],
 "metadata": {
  "kernelspec": {
   "display_name": ".venv",
   "language": "python",
   "name": "python3"
  },
  "language_info": {
   "codemirror_mode": {
    "name": "ipython",
    "version": 3
   },
   "file_extension": ".py",
   "mimetype": "text/x-python",
   "name": "python",
   "nbconvert_exporter": "python",
   "pygments_lexer": "ipython3",
   "version": "3.12.7"
  }
 },
 "nbformat": 4,
 "nbformat_minor": 2
}
