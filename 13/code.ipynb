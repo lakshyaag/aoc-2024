{
 "cells": [
  {
   "cell_type": "markdown",
   "metadata": {},
   "source": [
    "## Advent of Code 2024 - Day 13"
   ]
  },
  {
   "cell_type": "code",
   "execution_count": 1,
   "metadata": {},
   "outputs": [],
   "source": [
    "from rich import print\n",
    "from httpx import request\n",
    "import os\n",
    "import numpy as np\n",
    "import scipy as sp\n",
    "from itertools import product\n",
    "import math\n",
    "import functools\n",
    "\n",
    "%load_ext rich"
   ]
  },
  {
   "cell_type": "code",
   "execution_count": 2,
   "metadata": {},
   "outputs": [],
   "source": [
    "def parse_input(path):\n",
    "    # Read file and split into lines\n",
    "    with open(path, \"r\") as file:\n",
    "        result = file.read().split(\"\\n\\n\")\n",
    "    # Optional: Remove any empty lines if needed\n",
    "    return [line.split(\"\\n\") for line in result]"
   ]
  },
  {
   "cell_type": "code",
   "execution_count": 3,
   "metadata": {},
   "outputs": [],
   "source": [
    "sample_input = parse_input(\"sample.txt\")\n",
    "actual_input = parse_input(\"input.txt\")"
   ]
  },
  {
   "cell_type": "markdown",
   "metadata": {},
   "source": [
    "## Part 1"
   ]
  },
  {
   "cell_type": "code",
   "execution_count": 4,
   "metadata": {},
   "outputs": [
    {
     "data": {
      "text/html": [
       "<pre style=\"white-space:pre;overflow-x:auto;line-height:normal;font-family:Menlo,'DejaVu Sans Mono',consolas,'Courier New',monospace\"></pre>\n"
      ],
      "text/plain": []
     },
     "metadata": {},
     "output_type": "display_data"
    },
    {
     "data": {
      "text/plain": [
       "\n",
       "\u001b[1m[\u001b[0m\n",
       "    \u001b[1m[\u001b[0m\u001b[32m'Button A: X+94, Y+34'\u001b[0m, \u001b[32m'Button B: X+22, Y+67'\u001b[0m, \u001b[32m'Prize: \u001b[0m\u001b[32mX\u001b[0m\u001b[32m=\u001b[0m\u001b[32m8400\u001b[0m\u001b[32m, \u001b[0m\u001b[32mY\u001b[0m\u001b[32m=\u001b[0m\u001b[32m5400\u001b[0m\u001b[32m'\u001b[0m\u001b[1m]\u001b[0m,\n",
       "    \u001b[1m[\u001b[0m\u001b[32m'Button A: X+26, Y+66'\u001b[0m, \u001b[32m'Button B: X+67, Y+21'\u001b[0m, \u001b[32m'Prize: \u001b[0m\u001b[32mX\u001b[0m\u001b[32m=\u001b[0m\u001b[32m12748\u001b[0m\u001b[32m, \u001b[0m\u001b[32mY\u001b[0m\u001b[32m=\u001b[0m\u001b[32m12176\u001b[0m\u001b[32m'\u001b[0m\u001b[1m]\u001b[0m,\n",
       "    \u001b[1m[\u001b[0m\u001b[32m'Button A: X+17, Y+86'\u001b[0m, \u001b[32m'Button B: X+84, Y+37'\u001b[0m, \u001b[32m'Prize: \u001b[0m\u001b[32mX\u001b[0m\u001b[32m=\u001b[0m\u001b[32m7870\u001b[0m\u001b[32m, \u001b[0m\u001b[32mY\u001b[0m\u001b[32m=\u001b[0m\u001b[32m6450\u001b[0m\u001b[32m'\u001b[0m\u001b[1m]\u001b[0m,\n",
       "    \u001b[1m[\u001b[0m\u001b[32m'Button A: X+69, Y+23'\u001b[0m, \u001b[32m'Button B: X+27, Y+71'\u001b[0m, \u001b[32m'Prize: \u001b[0m\u001b[32mX\u001b[0m\u001b[32m=\u001b[0m\u001b[32m18641\u001b[0m\u001b[32m, \u001b[0m\u001b[32mY\u001b[0m\u001b[32m=\u001b[0m\u001b[32m10279\u001b[0m\u001b[32m'\u001b[0m\u001b[1m]\u001b[0m\n",
       "\u001b[1m]\u001b[0m"
      ]
     },
     "execution_count": 4,
     "metadata": {},
     "output_type": "execute_result"
    }
   ],
   "source": [
    "sample_input\n"
   ]
  },
  {
   "cell_type": "code",
   "execution_count": 5,
   "metadata": {},
   "outputs": [],
   "source": [
    "def process_machine(line, adjust=False):\n",
    "    a = line[0].split(\": \")[1].split(\",\")\n",
    "    b = line[1].split(\": \")[1].split(\",\")\n",
    "    p = line[2].split(\": \")[1].split(\",\")\n",
    "\n",
    "    a_x, a_y = int(a[0].split(\"+\")[1]), int(a[1].split(\"+\")[1])\n",
    "    b_x, b_y = int(b[0].split(\"+\")[1]), int(b[1].split(\"+\")[1])\n",
    "    p_x, p_y = int(p[0].split(\"=\")[1]), int(p[1].split(\"=\")[1])\n",
    "\n",
    "    A = np.array([[a_x, b_x], [a_y, b_y]])\n",
    "    B = np.array([p_x, p_y])\n",
    "\n",
    "    if adjust:\n",
    "        B += np.array([10**13])\n",
    "\n",
    "    A_inverse = np.linalg.inv(A)\n",
    "    x = np.dot(A_inverse, B).round()\n",
    "\n",
    "    if (np.dot(A, x) == B).all():\n",
    "        return 3 * x[0] + 1 * x[1]\n",
    "\n",
    "    return 0"
   ]
  },
  {
   "cell_type": "code",
   "execution_count": 6,
   "metadata": {},
   "outputs": [],
   "source": [
    "def solution_1(input):\n",
    "    return int(sum(process_machine(line) for line in input))"
   ]
  },
  {
   "cell_type": "code",
   "execution_count": 7,
   "metadata": {},
   "outputs": [
    {
     "data": {
      "text/html": [
       "<pre style=\"white-space:pre;overflow-x:auto;line-height:normal;font-family:Menlo,'DejaVu Sans Mono',consolas,'Courier New',monospace\">Part <span style=\"color: #008080; text-decoration-color: #008080; font-weight: bold\">1</span> - Sample: <span style=\"color: #008080; text-decoration-color: #008080; font-weight: bold\">480</span>\n",
       "</pre>\n"
      ],
      "text/plain": [
       "Part \u001b[1;36m1\u001b[0m - Sample: \u001b[1;36m480\u001b[0m\n"
      ]
     },
     "metadata": {},
     "output_type": "display_data"
    },
    {
     "data": {
      "text/html": [
       "<pre style=\"white-space:pre;overflow-x:auto;line-height:normal;font-family:Menlo,'DejaVu Sans Mono',consolas,'Courier New',monospace\">Part <span style=\"color: #008080; text-decoration-color: #008080; font-weight: bold\">1</span> - Actual: <span style=\"color: #008080; text-decoration-color: #008080; font-weight: bold\">40369</span>\n",
       "</pre>\n"
      ],
      "text/plain": [
       "Part \u001b[1;36m1\u001b[0m - Actual: \u001b[1;36m40369\u001b[0m\n"
      ]
     },
     "metadata": {},
     "output_type": "display_data"
    }
   ],
   "source": [
    "print(f\"Part 1 - Sample: {solution_1(sample_input)}\")\n",
    "print(f\"Part 1 - Actual: {solution_1(actual_input)}\")\n"
   ]
  },
  {
   "cell_type": "markdown",
   "metadata": {},
   "source": [
    "## Part 2"
   ]
  },
  {
   "cell_type": "code",
   "execution_count": 8,
   "metadata": {},
   "outputs": [
    {
     "data": {
      "text/html": [
       "<pre style=\"white-space:pre;overflow-x:auto;line-height:normal;font-family:Menlo,'DejaVu Sans Mono',consolas,'Courier New',monospace\"></pre>\n"
      ],
      "text/plain": []
     },
     "metadata": {},
     "output_type": "display_data"
    },
    {
     "data": {
      "text/plain": [
       "\n",
       "\u001b[1m[\u001b[0m\n",
       "    \u001b[1m[\u001b[0m\u001b[32m'Button A: X+94, Y+34'\u001b[0m, \u001b[32m'Button B: X+22, Y+67'\u001b[0m, \u001b[32m'Prize: \u001b[0m\u001b[32mX\u001b[0m\u001b[32m=\u001b[0m\u001b[32m8400\u001b[0m\u001b[32m, \u001b[0m\u001b[32mY\u001b[0m\u001b[32m=\u001b[0m\u001b[32m5400\u001b[0m\u001b[32m'\u001b[0m\u001b[1m]\u001b[0m,\n",
       "    \u001b[1m[\u001b[0m\u001b[32m'Button A: X+26, Y+66'\u001b[0m, \u001b[32m'Button B: X+67, Y+21'\u001b[0m, \u001b[32m'Prize: \u001b[0m\u001b[32mX\u001b[0m\u001b[32m=\u001b[0m\u001b[32m12748\u001b[0m\u001b[32m, \u001b[0m\u001b[32mY\u001b[0m\u001b[32m=\u001b[0m\u001b[32m12176\u001b[0m\u001b[32m'\u001b[0m\u001b[1m]\u001b[0m,\n",
       "    \u001b[1m[\u001b[0m\u001b[32m'Button A: X+17, Y+86'\u001b[0m, \u001b[32m'Button B: X+84, Y+37'\u001b[0m, \u001b[32m'Prize: \u001b[0m\u001b[32mX\u001b[0m\u001b[32m=\u001b[0m\u001b[32m7870\u001b[0m\u001b[32m, \u001b[0m\u001b[32mY\u001b[0m\u001b[32m=\u001b[0m\u001b[32m6450\u001b[0m\u001b[32m'\u001b[0m\u001b[1m]\u001b[0m,\n",
       "    \u001b[1m[\u001b[0m\u001b[32m'Button A: X+69, Y+23'\u001b[0m, \u001b[32m'Button B: X+27, Y+71'\u001b[0m, \u001b[32m'Prize: \u001b[0m\u001b[32mX\u001b[0m\u001b[32m=\u001b[0m\u001b[32m18641\u001b[0m\u001b[32m, \u001b[0m\u001b[32mY\u001b[0m\u001b[32m=\u001b[0m\u001b[32m10279\u001b[0m\u001b[32m'\u001b[0m\u001b[1m]\u001b[0m\n",
       "\u001b[1m]\u001b[0m"
      ]
     },
     "execution_count": 8,
     "metadata": {},
     "output_type": "execute_result"
    }
   ],
   "source": [
    "sample_input"
   ]
  },
  {
   "cell_type": "code",
   "execution_count": 9,
   "metadata": {},
   "outputs": [],
   "source": [
    "def solution_2(input):\n",
    "    return int(sum(process_machine(line, adjust=True) for line in input))"
   ]
  },
  {
   "cell_type": "code",
   "execution_count": 10,
   "metadata": {},
   "outputs": [
    {
     "data": {
      "text/html": [
       "<pre style=\"white-space:pre;overflow-x:auto;line-height:normal;font-family:Menlo,'DejaVu Sans Mono',consolas,'Courier New',monospace\">Part <span style=\"color: #008080; text-decoration-color: #008080; font-weight: bold\">2</span> - Sample: <span style=\"color: #008080; text-decoration-color: #008080; font-weight: bold\">875318608908</span>\n",
       "</pre>\n"
      ],
      "text/plain": [
       "Part \u001b[1;36m2\u001b[0m - Sample: \u001b[1;36m875318608908\u001b[0m\n"
      ]
     },
     "metadata": {},
     "output_type": "display_data"
    },
    {
     "data": {
      "text/html": [
       "<pre style=\"white-space:pre;overflow-x:auto;line-height:normal;font-family:Menlo,'DejaVu Sans Mono',consolas,'Courier New',monospace\">Part <span style=\"color: #008080; text-decoration-color: #008080; font-weight: bold\">2</span> - Actual: <span style=\"color: #008080; text-decoration-color: #008080; font-weight: bold\">72587986598368</span>\n",
       "</pre>\n"
      ],
      "text/plain": [
       "Part \u001b[1;36m2\u001b[0m - Actual: \u001b[1;36m72587986598368\u001b[0m\n"
      ]
     },
     "metadata": {},
     "output_type": "display_data"
    }
   ],
   "source": [
    "print(f\"Part 2 - Sample: {solution_2(sample_input)}\")\n",
    "print(f\"Part 2 - Actual: {solution_2(actual_input)}\")\n"
   ]
  }
 ],
 "metadata": {
  "kernelspec": {
   "display_name": ".venv",
   "language": "python",
   "name": "python3"
  },
  "language_info": {
   "codemirror_mode": {
    "name": "ipython",
    "version": 3
   },
   "file_extension": ".py",
   "mimetype": "text/x-python",
   "name": "python",
   "nbconvert_exporter": "python",
   "pygments_lexer": "ipython3",
   "version": "3.12.7"
  }
 },
 "nbformat": 4,
 "nbformat_minor": 2
}
