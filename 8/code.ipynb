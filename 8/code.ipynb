{
 "cells": [
  {
   "cell_type": "markdown",
   "metadata": {},
   "source": [
    "## Advent of Code 2024 - Day 8"
   ]
  },
  {
   "cell_type": "code",
   "execution_count": 1,
   "metadata": {},
   "outputs": [],
   "source": [
    "from rich import print\n",
    "from httpx import request\n",
    "import os\n",
    "import numpy as np\n",
    "from itertools import permutations, combinations\n",
    "\n",
    "%load_ext rich"
   ]
  },
  {
   "cell_type": "code",
   "execution_count": 2,
   "metadata": {},
   "outputs": [],
   "source": [
    "def parse_input(path):\n",
    "    # Read file and split into lines\n",
    "    with open(path, \"r\") as file:\n",
    "        result = file.read().splitlines()\n",
    "    # Optional: Remove any empty lines if needed\n",
    "    return [line for line in result if line.strip()]"
   ]
  },
  {
   "cell_type": "code",
   "execution_count": 3,
   "metadata": {},
   "outputs": [],
   "source": [
    "sample_input = parse_input(\"sample.txt\")\n",
    "actual_input = parse_input(\"input.txt\")"
   ]
  },
  {
   "cell_type": "markdown",
   "metadata": {},
   "source": [
    "## Part 1"
   ]
  },
  {
   "cell_type": "code",
   "execution_count": 4,
   "metadata": {},
   "outputs": [
    {
     "data": {
      "text/html": [
       "<pre style=\"white-space:pre;overflow-x:auto;line-height:normal;font-family:Menlo,'DejaVu Sans Mono',consolas,'Courier New',monospace\"></pre>\n"
      ],
      "text/plain": []
     },
     "metadata": {},
     "output_type": "display_data"
    },
    {
     "data": {
      "text/plain": [
       "\n",
       "\u001b[1m[\u001b[0m\n",
       "    \u001b[32m'............'\u001b[0m,\n",
       "    \u001b[32m'........0...'\u001b[0m,\n",
       "    \u001b[32m'.....0......'\u001b[0m,\n",
       "    \u001b[32m'.......0....'\u001b[0m,\n",
       "    \u001b[32m'....0.......'\u001b[0m,\n",
       "    \u001b[32m'......A.....'\u001b[0m,\n",
       "    \u001b[32m'............'\u001b[0m,\n",
       "    \u001b[32m'............'\u001b[0m,\n",
       "    \u001b[32m'........A...'\u001b[0m,\n",
       "    \u001b[32m'.........A..'\u001b[0m,\n",
       "    \u001b[32m'............'\u001b[0m,\n",
       "    \u001b[32m'............'\u001b[0m\n",
       "\u001b[1m]\u001b[0m"
      ]
     },
     "execution_count": 4,
     "metadata": {},
     "output_type": "execute_result"
    }
   ],
   "source": [
    "sample_input\n"
   ]
  },
  {
   "cell_type": "code",
   "execution_count": 5,
   "metadata": {},
   "outputs": [],
   "source": [
    "def draw_grid_with_antinode_locations(grid, frequencies, antinode_list):\n",
    "    grid_with_antinode_locations = np.copy(grid)\n",
    "    for p in antinode_list:\n",
    "        x, y = p[0], int(p[1])\n",
    "        if grid_with_antinode_locations[x][y] not in frequencies:\n",
    "            grid_with_antinode_locations[x][y] = \"#\""
   ]
  },
  {
   "cell_type": "code",
   "execution_count": 6,
   "metadata": {},
   "outputs": [],
   "source": [
    "def solution_1(input):\n",
    "    grid = np.array([list(line) for line in input])\n",
    "    m, n = grid.shape\n",
    "\n",
    "    frequencies = np.unique(grid).tolist()\n",
    "    frequencies.remove(\".\")\n",
    "\n",
    "    antenna_locations = {\n",
    "        freq: [(i, j) for i in range(m) for j in range(n) if grid[i, j] == freq]\n",
    "        for freq in frequencies\n",
    "    }\n",
    "\n",
    "    antinode_list = set()\n",
    "    for freq, locations in antenna_locations.items():\n",
    "        coords = permutations(locations, 2)\n",
    "\n",
    "        for (x1, y1), (x2, y2) in coords:\n",
    "            # For each pair of antennas, get the point that is 2x away\n",
    "            antinode = (2 * x1 - x2, 2 * y1 - y2)\n",
    "\n",
    "            # If this point is within the grid, add it to the set\n",
    "            if (antinode[0] >= 0 and antinode[0] < m) and (\n",
    "                antinode[1] >= 0 and antinode[1] < n\n",
    "            ):\n",
    "                antinode_list.add(antinode)\n",
    "\n",
    "    # print(draw_grid_with_antinode_locations(grid, frequencies, antinode_list))\n",
    "\n",
    "    return len(antinode_list)"
   ]
  },
  {
   "cell_type": "code",
   "execution_count": 7,
   "metadata": {},
   "outputs": [
    {
     "data": {
      "text/html": [
       "<pre style=\"white-space:pre;overflow-x:auto;line-height:normal;font-family:Menlo,'DejaVu Sans Mono',consolas,'Courier New',monospace\">Part <span style=\"color: #008080; text-decoration-color: #008080; font-weight: bold\">1</span> - Sample: <span style=\"color: #008080; text-decoration-color: #008080; font-weight: bold\">14</span>\n",
       "</pre>\n"
      ],
      "text/plain": [
       "Part \u001b[1;36m1\u001b[0m - Sample: \u001b[1;36m14\u001b[0m\n"
      ]
     },
     "metadata": {},
     "output_type": "display_data"
    },
    {
     "data": {
      "text/html": [
       "<pre style=\"white-space:pre;overflow-x:auto;line-height:normal;font-family:Menlo,'DejaVu Sans Mono',consolas,'Courier New',monospace\">Part <span style=\"color: #008080; text-decoration-color: #008080; font-weight: bold\">1</span> - Actual: <span style=\"color: #008080; text-decoration-color: #008080; font-weight: bold\">426</span>\n",
       "</pre>\n"
      ],
      "text/plain": [
       "Part \u001b[1;36m1\u001b[0m - Actual: \u001b[1;36m426\u001b[0m\n"
      ]
     },
     "metadata": {},
     "output_type": "display_data"
    }
   ],
   "source": [
    "print(f\"Part 1 - Sample: {solution_1(sample_input)}\")\n",
    "print(f\"Part 1 - Actual: {solution_1(actual_input)}\")\n"
   ]
  },
  {
   "cell_type": "markdown",
   "metadata": {},
   "source": [
    "## Part 2"
   ]
  },
  {
   "cell_type": "code",
   "execution_count": 8,
   "metadata": {},
   "outputs": [],
   "source": [
    "def solution_2(input):\n",
    "    grid = np.array([list(line) for line in input])\n",
    "    m, n = grid.shape\n",
    "\n",
    "    frequencies = np.unique(grid).tolist()\n",
    "    frequencies.remove(\".\")\n",
    "\n",
    "    antenna_locations = {\n",
    "        freq: [(i, j) for i in range(m) for j in range(n) if grid[i, j] == freq]\n",
    "        for freq in frequencies\n",
    "    }\n",
    "\n",
    "    antinode_list = set()\n",
    "    for freq, locations in antenna_locations.items():\n",
    "        coords = combinations(locations, 2)\n",
    "\n",
    "        for (x1, y1), (x2, y2) in coords:\n",
    "            # For each combination of antennas, get the distance between them\n",
    "            dx, dy = x2 - x1, y2 - y1\n",
    "            antinodes = set()\n",
    "\n",
    "            # Add points in the positive distance direction\n",
    "            xp, yp = x1, y1\n",
    "            while xp in range(m) and yp in range(n):\n",
    "                antinodes.add((xp, yp))\n",
    "                xp += dx\n",
    "                yp += dy\n",
    "\n",
    "            # Add points in the negative distance direction\n",
    "            xp, yp = x1, y1\n",
    "            while xp in range(m) and yp in range(n):\n",
    "                antinodes.add((xp, yp))\n",
    "                xp -= dx\n",
    "                yp -= dy\n",
    "\n",
    "            antinode_list.update(antinodes)\n",
    "\n",
    "    # print(draw_grid_with_antinode_locations(grid, frequencies, antinode_list))\n",
    "\n",
    "    return len(antinode_list)"
   ]
  },
  {
   "cell_type": "code",
   "execution_count": 9,
   "metadata": {},
   "outputs": [
    {
     "data": {
      "text/html": [
       "<pre style=\"white-space:pre;overflow-x:auto;line-height:normal;font-family:Menlo,'DejaVu Sans Mono',consolas,'Courier New',monospace\">Part <span style=\"color: #008080; text-decoration-color: #008080; font-weight: bold\">2</span> - Sample: <span style=\"color: #008080; text-decoration-color: #008080; font-weight: bold\">34</span>\n",
       "</pre>\n"
      ],
      "text/plain": [
       "Part \u001b[1;36m2\u001b[0m - Sample: \u001b[1;36m34\u001b[0m\n"
      ]
     },
     "metadata": {},
     "output_type": "display_data"
    },
    {
     "data": {
      "text/html": [
       "<pre style=\"white-space:pre;overflow-x:auto;line-height:normal;font-family:Menlo,'DejaVu Sans Mono',consolas,'Courier New',monospace\">Part <span style=\"color: #008080; text-decoration-color: #008080; font-weight: bold\">2</span> - Actual: <span style=\"color: #008080; text-decoration-color: #008080; font-weight: bold\">1359</span>\n",
       "</pre>\n"
      ],
      "text/plain": [
       "Part \u001b[1;36m2\u001b[0m - Actual: \u001b[1;36m1359\u001b[0m\n"
      ]
     },
     "metadata": {},
     "output_type": "display_data"
    }
   ],
   "source": [
    "print(f'Part 2 - Sample: {solution_2(sample_input)}')\n",
    "print(f'Part 2 - Actual: {solution_2(actual_input)}')\n"
   ]
  }
 ],
 "metadata": {
  "kernelspec": {
   "display_name": ".venv",
   "language": "python",
   "name": "python3"
  },
  "language_info": {
   "codemirror_mode": {
    "name": "ipython",
    "version": 3
   },
   "file_extension": ".py",
   "mimetype": "text/x-python",
   "name": "python",
   "nbconvert_exporter": "python",
   "pygments_lexer": "ipython3",
   "version": "3.12.7"
  }
 },
 "nbformat": 4,
 "nbformat_minor": 2
}
