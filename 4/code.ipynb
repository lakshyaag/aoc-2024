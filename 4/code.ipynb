{
 "cells": [
  {
   "cell_type": "markdown",
   "metadata": {},
   "source": [
    "## Advent of Code 2024 - Day 4"
   ]
  },
  {
   "cell_type": "code",
   "execution_count": 1,
   "metadata": {},
   "outputs": [],
   "source": [
    "from rich import print\n",
    "from httpx import request\n",
    "import os\n",
    "\n",
    "%load_ext rich\n"
   ]
  },
  {
   "cell_type": "code",
   "execution_count": 2,
   "metadata": {},
   "outputs": [],
   "source": [
    "def parse_input(path):\n",
    "    # Read file and split into lines\n",
    "    with open(path, \"r\") as file:\n",
    "        result = file.read().splitlines()\n",
    "    # Optional: Remove any empty lines if needed\n",
    "    return [line for line in result if line.strip()]"
   ]
  },
  {
   "cell_type": "code",
   "execution_count": 3,
   "metadata": {},
   "outputs": [],
   "source": [
    "sample_input = parse_input(\"sample.txt\")\n",
    "actual_input = parse_input(\"input.txt\")"
   ]
  },
  {
   "cell_type": "markdown",
   "metadata": {},
   "source": [
    "## Part 1"
   ]
  },
  {
   "cell_type": "code",
   "execution_count": 4,
   "metadata": {},
   "outputs": [
    {
     "data": {
      "text/html": [
       "<pre style=\"white-space:pre;overflow-x:auto;line-height:normal;font-family:Menlo,'DejaVu Sans Mono',consolas,'Courier New',monospace\"></pre>\n"
      ],
      "text/plain": []
     },
     "metadata": {},
     "output_type": "display_data"
    },
    {
     "data": {
      "text/plain": [
       "\n",
       "\u001b[1m[\u001b[0m\n",
       "    \u001b[32m'MMMSXXMASM'\u001b[0m,\n",
       "    \u001b[32m'MSAMXMSMSA'\u001b[0m,\n",
       "    \u001b[32m'AMXSXMAAMM'\u001b[0m,\n",
       "    \u001b[32m'MSAMASMSMX'\u001b[0m,\n",
       "    \u001b[32m'XMASAMXAMM'\u001b[0m,\n",
       "    \u001b[32m'XXAMMXXAMA'\u001b[0m,\n",
       "    \u001b[32m'SMSMSASXSS'\u001b[0m,\n",
       "    \u001b[32m'SAXAMASAAA'\u001b[0m,\n",
       "    \u001b[32m'MAMMMXMMMM'\u001b[0m,\n",
       "    \u001b[32m'MXMXAXMASX'\u001b[0m\n",
       "\u001b[1m]\u001b[0m"
      ]
     },
     "execution_count": 4,
     "metadata": {},
     "output_type": "execute_result"
    }
   ],
   "source": [
    "sample_input"
   ]
  },
  {
   "cell_type": "code",
   "execution_count": 5,
   "metadata": {},
   "outputs": [],
   "source": [
    "def radial_scan(\n",
    "    grid: list[list[str]], row: int, col: int, radius: int = 4\n",
    ") -> dict[str, list[str]]:\n",
    "    rows, cols = len(grid), len(grid[0])\n",
    "\n",
    "    # Direction vectors as (row_delta, col_delta)\n",
    "    directions = {\n",
    "        \"NW\": (-1, -1),\n",
    "        \"N\": (-1, 0),\n",
    "        \"NE\": (-1, 1),\n",
    "        \"E\": (0, 1),\n",
    "        \"SE\": (1, 1),\n",
    "        \"S\": (1, 0),\n",
    "        \"SW\": (1, -1),\n",
    "        \"W\": (0, -1),\n",
    "    }\n",
    "\n",
    "    result = {}\n",
    "\n",
    "    for direction, (di, dj) in directions.items():\n",
    "        # Check if the entire scan is within bounds\n",
    "        points = [(row + di * k, col + dj * k) for k in range(radius)]\n",
    "        if all(0 <= r < rows and 0 <= c < cols for r, c in points):\n",
    "            result[direction] = [grid[r][c] for r, c in points]\n",
    "\n",
    "    return result\n",
    "\n",
    "\n",
    "def solution_1(input, word):\n",
    "    letter_grid = [list(line) for line in input]\n",
    "    m, n = len(letter_grid), len(letter_grid[0])\n",
    "\n",
    "    count = 0\n",
    "    for i in range(m):\n",
    "        for j in range(n):\n",
    "            radial_scans = radial_scan(letter_grid, i, j)\n",
    "            for direction, radial in radial_scans.items():\n",
    "                if radial == list(word):\n",
    "                    count += 1\n",
    "\n",
    "    return count"
   ]
  },
  {
   "cell_type": "code",
   "execution_count": 6,
   "metadata": {},
   "outputs": [
    {
     "data": {
      "text/html": [
       "<pre style=\"white-space:pre;overflow-x:auto;line-height:normal;font-family:Menlo,'DejaVu Sans Mono',consolas,'Courier New',monospace\">Part <span style=\"color: #008080; text-decoration-color: #008080; font-weight: bold\">1</span> - Sample: <span style=\"color: #008080; text-decoration-color: #008080; font-weight: bold\">18</span>\n",
       "</pre>\n"
      ],
      "text/plain": [
       "Part \u001b[1;36m1\u001b[0m - Sample: \u001b[1;36m18\u001b[0m\n"
      ]
     },
     "metadata": {},
     "output_type": "display_data"
    },
    {
     "data": {
      "text/html": [
       "<pre style=\"white-space:pre;overflow-x:auto;line-height:normal;font-family:Menlo,'DejaVu Sans Mono',consolas,'Courier New',monospace\">Part <span style=\"color: #008080; text-decoration-color: #008080; font-weight: bold\">1</span> - Actual: <span style=\"color: #008080; text-decoration-color: #008080; font-weight: bold\">2397</span>\n",
       "</pre>\n"
      ],
      "text/plain": [
       "Part \u001b[1;36m1\u001b[0m - Actual: \u001b[1;36m2397\u001b[0m\n"
      ]
     },
     "metadata": {},
     "output_type": "display_data"
    }
   ],
   "source": [
    "print(f'Part 1 - Sample: {solution_1(sample_input, \"XMAS\")}')\n",
    "print(f'Part 1 - Actual: {solution_1(actual_input, \"XMAS\")}')\n",
    "\n"
   ]
  },
  {
   "cell_type": "markdown",
   "metadata": {},
   "source": [
    "## Part 2"
   ]
  },
  {
   "cell_type": "code",
   "execution_count": 7,
   "metadata": {},
   "outputs": [
    {
     "data": {
      "text/html": [
       "<pre style=\"white-space:pre;overflow-x:auto;line-height:normal;font-family:Menlo,'DejaVu Sans Mono',consolas,'Courier New',monospace\"></pre>\n"
      ],
      "text/plain": []
     },
     "metadata": {},
     "output_type": "display_data"
    },
    {
     "data": {
      "text/plain": [
       "\n",
       "\u001b[1m[\u001b[0m\n",
       "    \u001b[32m'MMMSXXMASM'\u001b[0m,\n",
       "    \u001b[32m'MSAMXMSMSA'\u001b[0m,\n",
       "    \u001b[32m'AMXSXMAAMM'\u001b[0m,\n",
       "    \u001b[32m'MSAMASMSMX'\u001b[0m,\n",
       "    \u001b[32m'XMASAMXAMM'\u001b[0m,\n",
       "    \u001b[32m'XXAMMXXAMA'\u001b[0m,\n",
       "    \u001b[32m'SMSMSASXSS'\u001b[0m,\n",
       "    \u001b[32m'SAXAMASAAA'\u001b[0m,\n",
       "    \u001b[32m'MAMMMXMMMM'\u001b[0m,\n",
       "    \u001b[32m'MXMXAXMASX'\u001b[0m\n",
       "\u001b[1m]\u001b[0m"
      ]
     },
     "execution_count": 7,
     "metadata": {},
     "output_type": "execute_result"
    }
   ],
   "source": [
    "sample_input"
   ]
  },
  {
   "cell_type": "code",
   "execution_count": 8,
   "metadata": {},
   "outputs": [],
   "source": [
    "def radial_scan(\n",
    "    grid: list[list[str]], row: int, col: int, radius: int = 4\n",
    ") -> dict[str, list[str]]:\n",
    "    rows, cols = len(grid), len(grid[0])\n",
    "\n",
    "    # Direction vectors as (row_delta, col_delta)\n",
    "    directions = {\n",
    "        \"NW\": (-1, -1),\n",
    "        \"N\": (-1, 0),\n",
    "        \"NE\": (-1, 1),\n",
    "        \"E\": (0, 1),\n",
    "        \"SE\": (1, 1),\n",
    "        \"S\": (1, 0),\n",
    "        \"SW\": (1, -1),\n",
    "        \"W\": (0, -1),\n",
    "    }\n",
    "\n",
    "    result = {}\n",
    "\n",
    "    for direction, (di, dj) in directions.items():\n",
    "        # Check if the entire scan is within bounds\n",
    "        points = [(row + di * k, col + dj * k) for k in range(radius)]\n",
    "        if all(0 <= r < rows and 0 <= c < cols for r, c in points):\n",
    "            result[direction] = [grid[r][c] for r, c in points]\n",
    "\n",
    "    return result\n",
    "\n",
    "\n",
    "def solution_2(input, word):\n",
    "    letter_grid = [list(line) for line in input]\n",
    "    m, n = len(letter_grid), len(letter_grid[0])\n",
    "\n",
    "    count = 0\n",
    "    for i in range(m):\n",
    "        for j in range(n):\n",
    "            if letter_grid[i][j] == \"A\":\n",
    "                radial_scans = radial_scan(letter_grid, i, j, radius=2)\n",
    "                corners = {\n",
    "                    \"NW\": radial_scans.get(\"NW\", []),\n",
    "                    \"SE\": radial_scans.get(\"SE\", []),\n",
    "                    \"NE\": radial_scans.get(\"NE\", []),\n",
    "                    \"SW\": radial_scans.get(\"SW\", []),\n",
    "                }\n",
    "                if all(corners.values()):\n",
    "                    if set(corners[\"NW\"] + corners[\"SE\"]) == set(word) and set(\n",
    "                        corners[\"NE\"] + corners[\"SW\"]\n",
    "                    ) == set(word):\n",
    "                        count += 1\n",
    "    return count\n"
   ]
  },
  {
   "cell_type": "code",
   "execution_count": 9,
   "metadata": {},
   "outputs": [
    {
     "data": {
      "text/html": [
       "<pre style=\"white-space:pre;overflow-x:auto;line-height:normal;font-family:Menlo,'DejaVu Sans Mono',consolas,'Courier New',monospace\">Part <span style=\"color: #008080; text-decoration-color: #008080; font-weight: bold\">2</span> - Sample: <span style=\"color: #008080; text-decoration-color: #008080; font-weight: bold\">9</span>\n",
       "</pre>\n"
      ],
      "text/plain": [
       "Part \u001b[1;36m2\u001b[0m - Sample: \u001b[1;36m9\u001b[0m\n"
      ]
     },
     "metadata": {},
     "output_type": "display_data"
    },
    {
     "data": {
      "text/html": [
       "<pre style=\"white-space:pre;overflow-x:auto;line-height:normal;font-family:Menlo,'DejaVu Sans Mono',consolas,'Courier New',monospace\">Part <span style=\"color: #008080; text-decoration-color: #008080; font-weight: bold\">2</span> - Actual: <span style=\"color: #008080; text-decoration-color: #008080; font-weight: bold\">1824</span>\n",
       "</pre>\n"
      ],
      "text/plain": [
       "Part \u001b[1;36m2\u001b[0m - Actual: \u001b[1;36m1824\u001b[0m\n"
      ]
     },
     "metadata": {},
     "output_type": "display_data"
    }
   ],
   "source": [
    "print(f'Part 2 - Sample: {solution_2(sample_input, \"MAS\")}')\n",
    "print(f'Part 2 - Actual: {solution_2(actual_input, \"MAS\")}')\n"
   ]
  }
 ],
 "metadata": {
  "kernelspec": {
   "display_name": ".venv",
   "language": "python",
   "name": "python3"
  },
  "language_info": {
   "codemirror_mode": {
    "name": "ipython",
    "version": 3
   },
   "file_extension": ".py",
   "mimetype": "text/x-python",
   "name": "python",
   "nbconvert_exporter": "python",
   "pygments_lexer": "ipython3",
   "version": "3.12.7"
  }
 },
 "nbformat": 4,
 "nbformat_minor": 2
}
