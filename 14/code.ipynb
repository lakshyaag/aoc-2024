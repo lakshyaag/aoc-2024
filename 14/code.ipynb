{
 "cells": [
  {
   "cell_type": "markdown",
   "metadata": {},
   "source": [
    "## Advent of Code 2024 - Day 14"
   ]
  },
  {
   "cell_type": "code",
   "execution_count": 86,
   "metadata": {},
   "outputs": [
    {
     "name": "stdout",
     "output_type": "stream",
     "text": [
      "The rich extension is already loaded. To reload it, use:\n",
      "  %reload_ext rich\n"
     ]
    }
   ],
   "source": [
    "from rich import print\n",
    "from httpx import request\n",
    "import os\n",
    "import numpy as np\n",
    "import matplotlib.pyplot as plt\n",
    "import scipy as sp\n",
    "from itertools import product\n",
    "import math\n",
    "import functools\n",
    "\n",
    "%load_ext rich"
   ]
  },
  {
   "cell_type": "code",
   "execution_count": 2,
   "metadata": {},
   "outputs": [],
   "source": [
    "def parse_input(path):\n",
    "    # Read file and split into lines\n",
    "    with open(path, \"r\") as file:\n",
    "        result = file.read().split(\"\\n\")\n",
    "    # Optional: Remove any empty lines if needed\n",
    "    return [line.split(\" \") for line in result]"
   ]
  },
  {
   "cell_type": "code",
   "execution_count": 3,
   "metadata": {},
   "outputs": [],
   "source": [
    "sample_input = parse_input(\"sample.txt\")\n",
    "actual_input = parse_input(\"input.txt\")"
   ]
  },
  {
   "cell_type": "markdown",
   "metadata": {},
   "source": [
    "## Part 1"
   ]
  },
  {
   "cell_type": "code",
   "execution_count": 4,
   "metadata": {},
   "outputs": [
    {
     "data": {
      "text/html": [
       "<pre style=\"white-space:pre;overflow-x:auto;line-height:normal;font-family:Menlo,'DejaVu Sans Mono',consolas,'Courier New',monospace\"></pre>\n"
      ],
      "text/plain": []
     },
     "metadata": {},
     "output_type": "display_data"
    },
    {
     "data": {
      "text/plain": [
       "\n",
       "\u001b[1m[\u001b[0m\n",
       "    \u001b[1m[\u001b[0m\u001b[32m'\u001b[0m\u001b[32mp\u001b[0m\u001b[32m=\u001b[0m\u001b[32m0\u001b[0m\u001b[32m,4'\u001b[0m, \u001b[32m'\u001b[0m\u001b[32mv\u001b[0m\u001b[32m=\u001b[0m\u001b[32m3\u001b[0m\u001b[32m,-3'\u001b[0m\u001b[1m]\u001b[0m,\n",
       "    \u001b[1m[\u001b[0m\u001b[32m'\u001b[0m\u001b[32mp\u001b[0m\u001b[32m=\u001b[0m\u001b[32m6\u001b[0m\u001b[32m,3'\u001b[0m, \u001b[32m'\u001b[0m\u001b[32mv\u001b[0m\u001b[32m=-1,-3'\u001b[0m\u001b[1m]\u001b[0m,\n",
       "    \u001b[1m[\u001b[0m\u001b[32m'\u001b[0m\u001b[32mp\u001b[0m\u001b[32m=\u001b[0m\u001b[32m10\u001b[0m\u001b[32m,3'\u001b[0m, \u001b[32m'\u001b[0m\u001b[32mv\u001b[0m\u001b[32m=-1,2'\u001b[0m\u001b[1m]\u001b[0m,\n",
       "    \u001b[1m[\u001b[0m\u001b[32m'\u001b[0m\u001b[32mp\u001b[0m\u001b[32m=\u001b[0m\u001b[32m2\u001b[0m\u001b[32m,0'\u001b[0m, \u001b[32m'\u001b[0m\u001b[32mv\u001b[0m\u001b[32m=\u001b[0m\u001b[32m2\u001b[0m\u001b[32m,-1'\u001b[0m\u001b[1m]\u001b[0m,\n",
       "    \u001b[1m[\u001b[0m\u001b[32m'\u001b[0m\u001b[32mp\u001b[0m\u001b[32m=\u001b[0m\u001b[32m0\u001b[0m\u001b[32m,0'\u001b[0m, \u001b[32m'\u001b[0m\u001b[32mv\u001b[0m\u001b[32m=\u001b[0m\u001b[32m1\u001b[0m\u001b[32m,3'\u001b[0m\u001b[1m]\u001b[0m,\n",
       "    \u001b[1m[\u001b[0m\u001b[32m'\u001b[0m\u001b[32mp\u001b[0m\u001b[32m=\u001b[0m\u001b[32m3\u001b[0m\u001b[32m,0'\u001b[0m, \u001b[32m'\u001b[0m\u001b[32mv\u001b[0m\u001b[32m=-2,-2'\u001b[0m\u001b[1m]\u001b[0m,\n",
       "    \u001b[1m[\u001b[0m\u001b[32m'\u001b[0m\u001b[32mp\u001b[0m\u001b[32m=\u001b[0m\u001b[32m7\u001b[0m\u001b[32m,6'\u001b[0m, \u001b[32m'\u001b[0m\u001b[32mv\u001b[0m\u001b[32m=-1,-3'\u001b[0m\u001b[1m]\u001b[0m,\n",
       "    \u001b[1m[\u001b[0m\u001b[32m'\u001b[0m\u001b[32mp\u001b[0m\u001b[32m=\u001b[0m\u001b[32m3\u001b[0m\u001b[32m,0'\u001b[0m, \u001b[32m'\u001b[0m\u001b[32mv\u001b[0m\u001b[32m=-1,-2'\u001b[0m\u001b[1m]\u001b[0m,\n",
       "    \u001b[1m[\u001b[0m\u001b[32m'\u001b[0m\u001b[32mp\u001b[0m\u001b[32m=\u001b[0m\u001b[32m9\u001b[0m\u001b[32m,3'\u001b[0m, \u001b[32m'\u001b[0m\u001b[32mv\u001b[0m\u001b[32m=\u001b[0m\u001b[32m2\u001b[0m\u001b[32m,3'\u001b[0m\u001b[1m]\u001b[0m,\n",
       "    \u001b[1m[\u001b[0m\u001b[32m'\u001b[0m\u001b[32mp\u001b[0m\u001b[32m=\u001b[0m\u001b[32m7\u001b[0m\u001b[32m,3'\u001b[0m, \u001b[32m'\u001b[0m\u001b[32mv\u001b[0m\u001b[32m=-1,2'\u001b[0m\u001b[1m]\u001b[0m,\n",
       "    \u001b[1m[\u001b[0m\u001b[32m'\u001b[0m\u001b[32mp\u001b[0m\u001b[32m=\u001b[0m\u001b[32m2\u001b[0m\u001b[32m,4'\u001b[0m, \u001b[32m'\u001b[0m\u001b[32mv\u001b[0m\u001b[32m=\u001b[0m\u001b[32m2\u001b[0m\u001b[32m,-3'\u001b[0m\u001b[1m]\u001b[0m,\n",
       "    \u001b[1m[\u001b[0m\u001b[32m'\u001b[0m\u001b[32mp\u001b[0m\u001b[32m=\u001b[0m\u001b[32m9\u001b[0m\u001b[32m,5'\u001b[0m, \u001b[32m'\u001b[0m\u001b[32mv\u001b[0m\u001b[32m=-3,-3'\u001b[0m\u001b[1m]\u001b[0m\n",
       "\u001b[1m]\u001b[0m"
      ]
     },
     "execution_count": 4,
     "metadata": {},
     "output_type": "execute_result"
    }
   ],
   "source": [
    "sample_input\n"
   ]
  },
  {
   "cell_type": "code",
   "execution_count": 19,
   "metadata": {},
   "outputs": [],
   "source": [
    "def parse_p_v(line):\n",
    "    return (\n",
    "        tuple(map(int, line[0].split(\"=\")[1].split(\",\"))),\n",
    "        tuple(map(int, line[1].split(\"=\")[1].split(\",\"))),\n",
    "    )"
   ]
  },
  {
   "cell_type": "code",
   "execution_count": 27,
   "metadata": {},
   "outputs": [],
   "source": [
    "class Robot:\n",
    "    def __init__(self, p, v, MAX_X, MAX_Y):\n",
    "        self.pos = p\n",
    "        self.velocity = v\n",
    "        self.step = 0\n",
    "\n",
    "        self.MAX_X = MAX_X\n",
    "        self.MAX_Y = MAX_Y\n",
    "\n",
    "    def take_step(self):\n",
    "        new_p = tuple(map(sum, zip(self.pos, self.velocity)))\n",
    "        new_x, new_y = new_p\n",
    "\n",
    "        if new_x < 0:\n",
    "            new_x = self.MAX_X - abs(new_x)\n",
    "        elif new_x >= self.MAX_X:\n",
    "            new_x = new_x - self.MAX_X\n",
    "\n",
    "        if new_y < 0:\n",
    "            new_y = self.MAX_Y - abs(new_y)\n",
    "        elif new_y >= self.MAX_Y:\n",
    "            new_y = new_y - self.MAX_Y\n",
    "\n",
    "        self.pos = (new_x, new_y)\n",
    "        self.step += 1\n",
    "\n",
    "    def take_steps(self, n_steps=10):\n",
    "        for _ in range(n_steps):\n",
    "            self.take_step()\n",
    "\n",
    "    def __repr__(self):\n",
    "        return f\"Robot at {self.pos} at timestep {self.step}\""
   ]
  },
  {
   "cell_type": "code",
   "execution_count": 93,
   "metadata": {},
   "outputs": [],
   "source": [
    "class Floor:\n",
    "    def __init__(self, MAX_X, MAX_Y):\n",
    "        self.robots = []\n",
    "        self.MAX_X = MAX_X\n",
    "        self.MAX_Y = MAX_Y\n",
    "\n",
    "    def add_robot(self, robot):\n",
    "        self.robots.append(robot)\n",
    "\n",
    "    def check_grid(self):\n",
    "        self.robots_on_floor = np.zeros((self.MAX_Y, self.MAX_X))\n",
    "\n",
    "        for robot in self.robots:\n",
    "            x, y = robot.pos\n",
    "            self.robots_on_floor[y][x] += 1\n",
    "\n",
    "        return self.robots_on_floor\n",
    "\n",
    "    def draw_floor(self):\n",
    "        self.floor = np.zeros((self.MAX_Y, self.MAX_X), dtype=str)\n",
    "        for y in range(self.MAX_Y):\n",
    "            for x in range(self.MAX_X):\n",
    "                if (x, y) in [robot.pos for robot in self.robots]:\n",
    "                    self.floor[y][x] = \"#\"\n",
    "                else:\n",
    "                    self.floor[y][x] = \".\"\n",
    "\n",
    "        # return self.floor\n",
    "        return np.where(self.floor == \"#\", 1, 0)\n"
   ]
  },
  {
   "cell_type": "code",
   "execution_count": 94,
   "metadata": {},
   "outputs": [],
   "source": [
    "def solution_1(input, MAX_X, MAX_Y):\n",
    "    robots = [Robot(*parse_p_v(line), MAX_X, MAX_Y) for line in input]\n",
    "    floor = Floor(MAX_X, MAX_Y)\n",
    "    for robot in robots:\n",
    "        floor.add_robot(robot)\n",
    "\n",
    "    for robot in robots:\n",
    "        robot.take_steps(100)\n",
    "\n",
    "    floor_grid = floor.check_grid()\n",
    "\n",
    "    q1 = [floor_grid[i][: MAX_X // 2] for i in range(MAX_Y // 2)]\n",
    "    q2 = [floor_grid[i][(MAX_X // 2) + 1 :] for i in range(MAX_Y // 2)]\n",
    "    q3 = [floor_grid[i][: MAX_X // 2] for i in range((MAX_Y // 2) + 1, MAX_Y)]\n",
    "    q4 = [floor_grid[i][(MAX_X // 2) + 1 :] for i in range((MAX_Y // 2) + 1, MAX_Y)]\n",
    "\n",
    "    return np.sum(q1) * np.sum(q2) * np.sum(q3) * np.sum(q4)\n"
   ]
  },
  {
   "cell_type": "code",
   "execution_count": 95,
   "metadata": {},
   "outputs": [
    {
     "data": {
      "text/html": [
       "<pre style=\"white-space:pre;overflow-x:auto;line-height:normal;font-family:Menlo,'DejaVu Sans Mono',consolas,'Courier New',monospace\">Part <span style=\"color: #008080; text-decoration-color: #008080; font-weight: bold\">1</span> - Sample: <span style=\"color: #008080; text-decoration-color: #008080; font-weight: bold\">12.0</span>\n",
       "</pre>\n"
      ],
      "text/plain": [
       "Part \u001b[1;36m1\u001b[0m - Sample: \u001b[1;36m12.0\u001b[0m\n"
      ]
     },
     "metadata": {},
     "output_type": "display_data"
    },
    {
     "data": {
      "text/html": [
       "<pre style=\"white-space:pre;overflow-x:auto;line-height:normal;font-family:Menlo,'DejaVu Sans Mono',consolas,'Courier New',monospace\">Part <span style=\"color: #008080; text-decoration-color: #008080; font-weight: bold\">1</span> - Actual: <span style=\"color: #008080; text-decoration-color: #008080; font-weight: bold\">230435667.0</span>\n",
       "</pre>\n"
      ],
      "text/plain": [
       "Part \u001b[1;36m1\u001b[0m - Actual: \u001b[1;36m230435667.0\u001b[0m\n"
      ]
     },
     "metadata": {},
     "output_type": "display_data"
    }
   ],
   "source": [
    "print(f\"Part 1 - Sample: {solution_1(sample_input, MAX_X=11, MAX_Y=7)}\")\n",
    "print(f\"Part 1 - Actual: {solution_1(actual_input, MAX_X=101, MAX_Y=103)}\")\n"
   ]
  },
  {
   "cell_type": "markdown",
   "metadata": {},
   "source": [
    "## Part 2"
   ]
  },
  {
   "cell_type": "code",
   "execution_count": 96,
   "metadata": {},
   "outputs": [
    {
     "data": {
      "text/html": [
       "<pre style=\"white-space:pre;overflow-x:auto;line-height:normal;font-family:Menlo,'DejaVu Sans Mono',consolas,'Courier New',monospace\"></pre>\n"
      ],
      "text/plain": []
     },
     "metadata": {},
     "output_type": "display_data"
    },
    {
     "data": {
      "text/plain": [
       "\n",
       "\u001b[1m[\u001b[0m\n",
       "    \u001b[1m[\u001b[0m\u001b[32m'\u001b[0m\u001b[32mp\u001b[0m\u001b[32m=\u001b[0m\u001b[32m0\u001b[0m\u001b[32m,4'\u001b[0m, \u001b[32m'\u001b[0m\u001b[32mv\u001b[0m\u001b[32m=\u001b[0m\u001b[32m3\u001b[0m\u001b[32m,-3'\u001b[0m\u001b[1m]\u001b[0m,\n",
       "    \u001b[1m[\u001b[0m\u001b[32m'\u001b[0m\u001b[32mp\u001b[0m\u001b[32m=\u001b[0m\u001b[32m6\u001b[0m\u001b[32m,3'\u001b[0m, \u001b[32m'\u001b[0m\u001b[32mv\u001b[0m\u001b[32m=-1,-3'\u001b[0m\u001b[1m]\u001b[0m,\n",
       "    \u001b[1m[\u001b[0m\u001b[32m'\u001b[0m\u001b[32mp\u001b[0m\u001b[32m=\u001b[0m\u001b[32m10\u001b[0m\u001b[32m,3'\u001b[0m, \u001b[32m'\u001b[0m\u001b[32mv\u001b[0m\u001b[32m=-1,2'\u001b[0m\u001b[1m]\u001b[0m,\n",
       "    \u001b[1m[\u001b[0m\u001b[32m'\u001b[0m\u001b[32mp\u001b[0m\u001b[32m=\u001b[0m\u001b[32m2\u001b[0m\u001b[32m,0'\u001b[0m, \u001b[32m'\u001b[0m\u001b[32mv\u001b[0m\u001b[32m=\u001b[0m\u001b[32m2\u001b[0m\u001b[32m,-1'\u001b[0m\u001b[1m]\u001b[0m,\n",
       "    \u001b[1m[\u001b[0m\u001b[32m'\u001b[0m\u001b[32mp\u001b[0m\u001b[32m=\u001b[0m\u001b[32m0\u001b[0m\u001b[32m,0'\u001b[0m, \u001b[32m'\u001b[0m\u001b[32mv\u001b[0m\u001b[32m=\u001b[0m\u001b[32m1\u001b[0m\u001b[32m,3'\u001b[0m\u001b[1m]\u001b[0m,\n",
       "    \u001b[1m[\u001b[0m\u001b[32m'\u001b[0m\u001b[32mp\u001b[0m\u001b[32m=\u001b[0m\u001b[32m3\u001b[0m\u001b[32m,0'\u001b[0m, \u001b[32m'\u001b[0m\u001b[32mv\u001b[0m\u001b[32m=-2,-2'\u001b[0m\u001b[1m]\u001b[0m,\n",
       "    \u001b[1m[\u001b[0m\u001b[32m'\u001b[0m\u001b[32mp\u001b[0m\u001b[32m=\u001b[0m\u001b[32m7\u001b[0m\u001b[32m,6'\u001b[0m, \u001b[32m'\u001b[0m\u001b[32mv\u001b[0m\u001b[32m=-1,-3'\u001b[0m\u001b[1m]\u001b[0m,\n",
       "    \u001b[1m[\u001b[0m\u001b[32m'\u001b[0m\u001b[32mp\u001b[0m\u001b[32m=\u001b[0m\u001b[32m3\u001b[0m\u001b[32m,0'\u001b[0m, \u001b[32m'\u001b[0m\u001b[32mv\u001b[0m\u001b[32m=-1,-2'\u001b[0m\u001b[1m]\u001b[0m,\n",
       "    \u001b[1m[\u001b[0m\u001b[32m'\u001b[0m\u001b[32mp\u001b[0m\u001b[32m=\u001b[0m\u001b[32m9\u001b[0m\u001b[32m,3'\u001b[0m, \u001b[32m'\u001b[0m\u001b[32mv\u001b[0m\u001b[32m=\u001b[0m\u001b[32m2\u001b[0m\u001b[32m,3'\u001b[0m\u001b[1m]\u001b[0m,\n",
       "    \u001b[1m[\u001b[0m\u001b[32m'\u001b[0m\u001b[32mp\u001b[0m\u001b[32m=\u001b[0m\u001b[32m7\u001b[0m\u001b[32m,3'\u001b[0m, \u001b[32m'\u001b[0m\u001b[32mv\u001b[0m\u001b[32m=-1,2'\u001b[0m\u001b[1m]\u001b[0m,\n",
       "    \u001b[1m[\u001b[0m\u001b[32m'\u001b[0m\u001b[32mp\u001b[0m\u001b[32m=\u001b[0m\u001b[32m2\u001b[0m\u001b[32m,4'\u001b[0m, \u001b[32m'\u001b[0m\u001b[32mv\u001b[0m\u001b[32m=\u001b[0m\u001b[32m2\u001b[0m\u001b[32m,-3'\u001b[0m\u001b[1m]\u001b[0m,\n",
       "    \u001b[1m[\u001b[0m\u001b[32m'\u001b[0m\u001b[32mp\u001b[0m\u001b[32m=\u001b[0m\u001b[32m9\u001b[0m\u001b[32m,5'\u001b[0m, \u001b[32m'\u001b[0m\u001b[32mv\u001b[0m\u001b[32m=-3,-3'\u001b[0m\u001b[1m]\u001b[0m\n",
       "\u001b[1m]\u001b[0m"
      ]
     },
     "execution_count": 96,
     "metadata": {},
     "output_type": "execute_result"
    }
   ],
   "source": [
    "sample_input"
   ]
  },
  {
   "cell_type": "code",
   "execution_count": 115,
   "metadata": {},
   "outputs": [],
   "source": [
    "import torch as t\n",
    "\n",
    "floor_images = []\n",
    "\n",
    "\n",
    "def solution_2(input, MAX_X, MAX_Y):\n",
    "    robots = [Robot(*parse_p_v(line), MAX_X, MAX_Y) for line in input]\n",
    "    floor = Floor(MAX_X, MAX_Y)\n",
    "    for robot in robots:\n",
    "        floor.add_robot(robot)\n",
    "\n",
    "    i = 0\n",
    "\n",
    "    while True:\n",
    "        for robot in robots:\n",
    "            robot.take_step()\n",
    "\n",
    "        i += 1\n",
    "        floor_grid = floor.check_grid()\n",
    "\n",
    "        floor_images.append(t.Tensor(floor_grid))\n",
    "\n",
    "        if np.max(floor_grid) == 1:\n",
    "            print(f\"Found at step {i}\")\n",
    "            return floor"
   ]
  },
  {
   "cell_type": "code",
   "execution_count": 116,
   "metadata": {},
   "outputs": [
    {
     "data": {
      "text/html": [
       "<pre style=\"white-space:pre;overflow-x:auto;line-height:normal;font-family:Menlo,'DejaVu Sans Mono',consolas,'Courier New',monospace\">Found at step <span style=\"color: #008080; text-decoration-color: #008080; font-weight: bold\">7709</span>\n",
       "</pre>\n"
      ],
      "text/plain": [
       "Found at step \u001b[1;36m7709\u001b[0m\n"
      ]
     },
     "metadata": {},
     "output_type": "display_data"
    }
   ],
   "source": [
    "final_floor = solution_2(actual_input, MAX_X=101, MAX_Y=103)"
   ]
  }
 ],
 "metadata": {
  "kernelspec": {
   "display_name": ".venv",
   "language": "python",
   "name": "python3"
  },
  "language_info": {
   "codemirror_mode": {
    "name": "ipython",
    "version": 3
   },
   "file_extension": ".py",
   "mimetype": "text/x-python",
   "name": "python",
   "nbconvert_exporter": "python",
   "pygments_lexer": "ipython3",
   "version": "3.12.7"
  }
 },
 "nbformat": 4,
 "nbformat_minor": 2
}
