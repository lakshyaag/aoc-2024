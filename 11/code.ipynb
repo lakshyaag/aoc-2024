{
 "cells": [
  {
   "cell_type": "markdown",
   "metadata": {},
   "source": [
    "## Advent of Code 2024 - Day 11"
   ]
  },
  {
   "cell_type": "code",
   "execution_count": 1,
   "metadata": {},
   "outputs": [],
   "source": [
    "from rich import print\n",
    "from httpx import request\n",
    "import os\n",
    "import numpy as np\n",
    "from itertools import product\n",
    "import math\n",
    "import functools\n",
    "\n",
    "%load_ext rich"
   ]
  },
  {
   "cell_type": "code",
   "execution_count": 2,
   "metadata": {},
   "outputs": [],
   "source": [
    "def parse_input(path):\n",
    "    # Read file and split into lines\n",
    "    with open(path, \"r\") as file:\n",
    "        result = file.read().split()\n",
    "    # Optional: Remove any empty lines if needed\n",
    "    return [int(x) for x in result]"
   ]
  },
  {
   "cell_type": "code",
   "execution_count": 3,
   "metadata": {},
   "outputs": [],
   "source": [
    "sample_input = parse_input(\"sample.txt\")\n",
    "sample_input_2 = parse_input(\"sample_2.txt\")\n",
    "actual_input = parse_input(\"input.txt\")"
   ]
  },
  {
   "cell_type": "markdown",
   "metadata": {},
   "source": [
    "## Part 1"
   ]
  },
  {
   "cell_type": "code",
   "execution_count": 4,
   "metadata": {},
   "outputs": [
    {
     "data": {
      "text/html": [
       "<pre style=\"white-space:pre;overflow-x:auto;line-height:normal;font-family:Menlo,'DejaVu Sans Mono',consolas,'Courier New',monospace\"></pre>\n"
      ],
      "text/plain": []
     },
     "metadata": {},
     "output_type": "display_data"
    },
    {
     "data": {
      "text/plain": [
       "\u001b[1m[\u001b[0m\u001b[1;36m0\u001b[0m, \u001b[1;36m1\u001b[0m, \u001b[1;36m10\u001b[0m, \u001b[1;36m99\u001b[0m, \u001b[1;36m999\u001b[0m\u001b[1m]\u001b[0m"
      ]
     },
     "execution_count": 4,
     "metadata": {},
     "output_type": "execute_result"
    }
   ],
   "source": [
    "sample_input\n"
   ]
  },
  {
   "cell_type": "code",
   "execution_count": 5,
   "metadata": {},
   "outputs": [
    {
     "data": {
      "text/html": [
       "<pre style=\"white-space:pre;overflow-x:auto;line-height:normal;font-family:Menlo,'DejaVu Sans Mono',consolas,'Courier New',monospace\"></pre>\n"
      ],
      "text/plain": []
     },
     "metadata": {},
     "output_type": "display_data"
    },
    {
     "data": {
      "text/plain": [
       "\u001b[1m[\u001b[0m\u001b[1;36m125\u001b[0m, \u001b[1;36m17\u001b[0m\u001b[1m]\u001b[0m"
      ]
     },
     "execution_count": 5,
     "metadata": {},
     "output_type": "execute_result"
    }
   ],
   "source": [
    "sample_input_2"
   ]
  },
  {
   "cell_type": "code",
   "execution_count": 6,
   "metadata": {},
   "outputs": [],
   "source": [
    "@functools.cache\n",
    "def process_stone(stone, t):\n",
    "    \"\"\"\n",
    "    Recursive function that takes in a stone and processing step (t). `t` here is the number of blinks to be performed.\n",
    "\n",
    "    When t == 0, the stone has no more blinks and we return 1\n",
    "    If the stone is 0, then the next blink in the sequence will be with value 1\n",
    "    If the number of digits in the number is odd, then the next blink in the sequence will be with value * 2024\n",
    "    Otherwise, we split the number in the middle into left and right digits, and start their blink sequence from the next blink\n",
    "\n",
    "    This will then return the number of stones generated for a given input after `t` number of blinks.\n",
    "\n",
    "    Example:\n",
    "    stone = 2024, t = 2\n",
    "    -> stone = 20, t = 1;;stone = 24, t = 1\n",
    "    -> stone = 2, t = 1; stone = 0, t = 1;;stone = 2, t = 1; stone = 4, t = 1\n",
    "    -> stone = 4048, t = 0; stone = 1, t = 0;;stone = 4048, t = 0; stone = 8096, t = 0\n",
    "    -> 1 + 1;;1 + 1\n",
    "    -> 2 + 2\n",
    "    -> 2\n",
    "    \"\"\"\n",
    "    if t == 0:\n",
    "        return 1\n",
    "    if stone == 0:\n",
    "        return process_stone(1, t - 1)\n",
    "\n",
    "    num_digits = int(math.log10(stone)) + 1\n",
    "\n",
    "    if num_digits % 2:\n",
    "        return process_stone(stone * 2024, t - 1)\n",
    "\n",
    "    q, r = divmod(stone, (10 ** (num_digits // 2)))\n",
    "    return process_stone(q, t - 1) + process_stone(r, t - 1)"
   ]
  },
  {
   "cell_type": "code",
   "execution_count": 7,
   "metadata": {},
   "outputs": [],
   "source": [
    "def solution_1(input, num_blinks=25):\n",
    "    stone_line = input.copy()\n",
    "\n",
    "    total_stones = sum(map(functools.partial(process_stone, t=num_blinks), stone_line))\n",
    "\n",
    "    return total_stones"
   ]
  },
  {
   "cell_type": "code",
   "execution_count": 8,
   "metadata": {},
   "outputs": [
    {
     "data": {
      "text/html": [
       "<pre style=\"white-space:pre;overflow-x:auto;line-height:normal;font-family:Menlo,'DejaVu Sans Mono',consolas,'Courier New',monospace\">Part <span style=\"color: #008080; text-decoration-color: #008080; font-weight: bold\">1</span> - Sample: <span style=\"color: #008080; text-decoration-color: #008080; font-weight: bold\">55312</span>\n",
       "</pre>\n"
      ],
      "text/plain": [
       "Part \u001b[1;36m1\u001b[0m - Sample: \u001b[1;36m55312\u001b[0m\n"
      ]
     },
     "metadata": {},
     "output_type": "display_data"
    },
    {
     "data": {
      "text/html": [
       "<pre style=\"white-space:pre;overflow-x:auto;line-height:normal;font-family:Menlo,'DejaVu Sans Mono',consolas,'Courier New',monospace\">Part <span style=\"color: #008080; text-decoration-color: #008080; font-weight: bold\">1</span> - Actual: <span style=\"color: #008080; text-decoration-color: #008080; font-weight: bold\">213625</span>\n",
       "</pre>\n"
      ],
      "text/plain": [
       "Part \u001b[1;36m1\u001b[0m - Actual: \u001b[1;36m213625\u001b[0m\n"
      ]
     },
     "metadata": {},
     "output_type": "display_data"
    }
   ],
   "source": [
    "print(f\"Part 1 - Sample: {solution_1(sample_input_2)}\")\n",
    "print(f\"Part 1 - Actual: {solution_1(actual_input)}\")\n"
   ]
  },
  {
   "cell_type": "markdown",
   "metadata": {},
   "source": [
    "## Part 2"
   ]
  },
  {
   "cell_type": "code",
   "execution_count": 9,
   "metadata": {},
   "outputs": [],
   "source": [
    "def solution_2(input, num_blinks=75):\n",
    "    stone_line = input.copy()\n",
    "\n",
    "    total_stones = sum(map(functools.partial(process_stone, t=num_blinks), stone_line))\n",
    "\n",
    "    return total_stones"
   ]
  },
  {
   "cell_type": "code",
   "execution_count": 10,
   "metadata": {},
   "outputs": [
    {
     "data": {
      "text/html": [
       "<pre style=\"white-space:pre;overflow-x:auto;line-height:normal;font-family:Menlo,'DejaVu Sans Mono',consolas,'Courier New',monospace\">Part <span style=\"color: #008080; text-decoration-color: #008080; font-weight: bold\">2</span> - Sample: <span style=\"color: #008080; text-decoration-color: #008080; font-weight: bold\">65601038650482</span>\n",
       "</pre>\n"
      ],
      "text/plain": [
       "Part \u001b[1;36m2\u001b[0m - Sample: \u001b[1;36m65601038650482\u001b[0m\n"
      ]
     },
     "metadata": {},
     "output_type": "display_data"
    },
    {
     "data": {
      "text/html": [
       "<pre style=\"white-space:pre;overflow-x:auto;line-height:normal;font-family:Menlo,'DejaVu Sans Mono',consolas,'Courier New',monospace\">Part <span style=\"color: #008080; text-decoration-color: #008080; font-weight: bold\">2</span> - Actual: <span style=\"color: #008080; text-decoration-color: #008080; font-weight: bold\">252442982856820</span>\n",
       "</pre>\n"
      ],
      "text/plain": [
       "Part \u001b[1;36m2\u001b[0m - Actual: \u001b[1;36m252442982856820\u001b[0m\n"
      ]
     },
     "metadata": {},
     "output_type": "display_data"
    }
   ],
   "source": [
    "print(f\"Part 2 - Sample: {solution_2(sample_input_2)}\")\n",
    "print(f\"Part 2 - Actual: {solution_2(actual_input)}\")\n"
   ]
  }
 ],
 "metadata": {
  "kernelspec": {
   "display_name": ".venv",
   "language": "python",
   "name": "python3"
  },
  "language_info": {
   "codemirror_mode": {
    "name": "ipython",
    "version": 3
   },
   "file_extension": ".py",
   "mimetype": "text/x-python",
   "name": "python",
   "nbconvert_exporter": "python",
   "pygments_lexer": "ipython3",
   "version": "3.12.7"
  }
 },
 "nbformat": 4,
 "nbformat_minor": 2
}
