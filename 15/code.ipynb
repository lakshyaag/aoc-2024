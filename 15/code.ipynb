{
 "cells": [
  {
   "cell_type": "markdown",
   "metadata": {},
   "source": [
    "## Advent of Code 2024 - Day 15"
   ]
  },
  {
   "cell_type": "code",
   "execution_count": 1,
   "metadata": {},
   "outputs": [],
   "source": [
    "from rich import print\n",
    "from httpx import request\n",
    "import os\n",
    "import numpy as np\n",
    "import matplotlib.pyplot as plt\n",
    "import scipy as sp\n",
    "from itertools import product\n",
    "import math\n",
    "import functools\n",
    "\n",
    "%load_ext rich"
   ]
  },
  {
   "cell_type": "code",
   "execution_count": 206,
   "metadata": {},
   "outputs": [],
   "source": [
    "def parse_input(path):\n",
    "    # Read file and split into lines\n",
    "    with open(path, \"r\") as file:\n",
    "        result = file.read().split(\"\\n\\n\")\n",
    "    # Optional: Remove any empty lines if needed\n",
    "    return [result[0].split(\"\\n\"), result[1]]"
   ]
  },
  {
   "cell_type": "code",
   "execution_count": 207,
   "metadata": {},
   "outputs": [],
   "source": [
    "sample_input = parse_input(\"sample.txt\")\n",
    "sample_input_2 = parse_input(\"sample_2.txt\")\n",
    "actual_input = parse_input(\"input.txt\")"
   ]
  },
  {
   "cell_type": "markdown",
   "metadata": {},
   "source": [
    "## Part 1"
   ]
  },
  {
   "cell_type": "code",
   "execution_count": 208,
   "metadata": {},
   "outputs": [
    {
     "data": {
      "text/html": [
       "<pre style=\"white-space:pre;overflow-x:auto;line-height:normal;font-family:Menlo,'DejaVu Sans Mono',consolas,'Courier New',monospace\"></pre>\n"
      ],
      "text/plain": []
     },
     "metadata": {},
     "output_type": "display_data"
    },
    {
     "data": {
      "text/plain": [
       "\n",
       "\u001b[1m(\u001b[0m\n",
       "    \u001b[1m[\u001b[0m\u001b[32m'########'\u001b[0m, \u001b[32m'#..O.O.#'\u001b[0m, \u001b[32m'##..O@.#'\u001b[0m, \u001b[32m'#...O..#'\u001b[0m, \u001b[32m'#.#.#..#'\u001b[0m, \u001b[32m'#...O..#'\u001b[0m, \u001b[32m'#......#'\u001b[0m, \u001b[32m'########'\u001b[0m\u001b[1m]\u001b[0m,\n",
       "    \u001b[32m'\u001b[0m\u001b[32m<\u001b[0m\u001b[32m^^>>>vv<v>\u001b[0m\u001b[32m>\u001b[0m\u001b[32mv<<'\u001b[0m\n",
       "\u001b[1m)\u001b[0m"
      ]
     },
     "execution_count": 208,
     "metadata": {},
     "output_type": "execute_result"
    }
   ],
   "source": [
    "floor_map, moves_list = sample_input_2\n",
    "floor_map, moves_list"
   ]
  },
  {
   "cell_type": "code",
   "execution_count": 209,
   "metadata": {},
   "outputs": [
    {
     "data": {
      "text/html": [
       "<pre style=\"white-space:pre;overflow-x:auto;line-height:normal;font-family:Menlo,'DejaVu Sans Mono',consolas,'Courier New',monospace\"></pre>\n"
      ],
      "text/plain": []
     },
     "metadata": {},
     "output_type": "display_data"
    },
    {
     "data": {
      "text/plain": [
       "\n",
       "\u001b[1;35marray\u001b[0m\u001b[1m(\u001b[0m\u001b[1m[\u001b[0m\u001b[1m[\u001b[0m\u001b[32m'#'\u001b[0m, \u001b[32m'#'\u001b[0m, \u001b[32m'#'\u001b[0m, \u001b[32m'#'\u001b[0m, \u001b[32m'#'\u001b[0m, \u001b[32m'#'\u001b[0m, \u001b[32m'#'\u001b[0m, \u001b[32m'#'\u001b[0m\u001b[1m]\u001b[0m,\n",
       "       \u001b[1m[\u001b[0m\u001b[32m'#'\u001b[0m, \u001b[32m'.'\u001b[0m, \u001b[32m'.'\u001b[0m, \u001b[32m'O'\u001b[0m, \u001b[32m'.'\u001b[0m, \u001b[32m'O'\u001b[0m, \u001b[32m'.'\u001b[0m, \u001b[32m'#'\u001b[0m\u001b[1m]\u001b[0m,\n",
       "       \u001b[1m[\u001b[0m\u001b[32m'#'\u001b[0m, \u001b[32m'#'\u001b[0m, \u001b[32m'.'\u001b[0m, \u001b[32m'.'\u001b[0m, \u001b[32m'O'\u001b[0m, \u001b[32m'@'\u001b[0m, \u001b[32m'.'\u001b[0m, \u001b[32m'#'\u001b[0m\u001b[1m]\u001b[0m,\n",
       "       \u001b[1m[\u001b[0m\u001b[32m'#'\u001b[0m, \u001b[32m'.'\u001b[0m, \u001b[32m'.'\u001b[0m, \u001b[32m'.'\u001b[0m, \u001b[32m'O'\u001b[0m, \u001b[32m'.'\u001b[0m, \u001b[32m'.'\u001b[0m, \u001b[32m'#'\u001b[0m\u001b[1m]\u001b[0m,\n",
       "       \u001b[1m[\u001b[0m\u001b[32m'#'\u001b[0m, \u001b[32m'.'\u001b[0m, \u001b[32m'#'\u001b[0m, \u001b[32m'.'\u001b[0m, \u001b[32m'#'\u001b[0m, \u001b[32m'.'\u001b[0m, \u001b[32m'.'\u001b[0m, \u001b[32m'#'\u001b[0m\u001b[1m]\u001b[0m,\n",
       "       \u001b[1m[\u001b[0m\u001b[32m'#'\u001b[0m, \u001b[32m'.'\u001b[0m, \u001b[32m'.'\u001b[0m, \u001b[32m'.'\u001b[0m, \u001b[32m'O'\u001b[0m, \u001b[32m'.'\u001b[0m, \u001b[32m'.'\u001b[0m, \u001b[32m'#'\u001b[0m\u001b[1m]\u001b[0m,\n",
       "       \u001b[1m[\u001b[0m\u001b[32m'#'\u001b[0m, \u001b[32m'.'\u001b[0m, \u001b[32m'.'\u001b[0m, \u001b[32m'.'\u001b[0m, \u001b[32m'.'\u001b[0m, \u001b[32m'.'\u001b[0m, \u001b[32m'.'\u001b[0m, \u001b[32m'#'\u001b[0m\u001b[1m]\u001b[0m,\n",
       "       \u001b[1m[\u001b[0m\u001b[32m'#'\u001b[0m, \u001b[32m'#'\u001b[0m, \u001b[32m'#'\u001b[0m, \u001b[32m'#'\u001b[0m, \u001b[32m'#'\u001b[0m, \u001b[32m'#'\u001b[0m, \u001b[32m'#'\u001b[0m, \u001b[32m'#'\u001b[0m\u001b[1m]\u001b[0m\u001b[1m]\u001b[0m, \u001b[33mdtype\u001b[0m=\u001b[32m'<U1'\u001b[0m\u001b[1m)\u001b[0m"
      ]
     },
     "execution_count": 209,
     "metadata": {},
     "output_type": "execute_result"
    }
   ],
   "source": [
    "np.array(list(map(list, floor_map)))"
   ]
  },
  {
   "cell_type": "code",
   "execution_count": 210,
   "metadata": {},
   "outputs": [],
   "source": [
    "class Floor:\n",
    "    def __init__(self, floor):\n",
    "        self.floor = np.array(list(map(list, floor)))\n",
    "\n",
    "        self.robot_pos = np.where(self.floor == \"@\")\n",
    "        self.robot_pos = (int(self.robot_pos[0][0]), int(self.robot_pos[1][0]))\n",
    "\n",
    "        self.directions = {\n",
    "            \">\": (0, 1),\n",
    "            \"<\": (0, -1),\n",
    "            \"^\": (-1, 0),\n",
    "            \"v\": (1, 0),\n",
    "        }\n",
    "\n",
    "    def move(self, direction):\n",
    "        next_pos = tuple(map(sum, zip(self.robot_pos, self.directions[direction])))\n",
    "\n",
    "        if self.floor[next_pos] == \"#\":\n",
    "            return None\n",
    "\n",
    "        if self.floor[next_pos] == \".\":\n",
    "            self.floor[self.robot_pos] = \".\"\n",
    "            self.floor[next_pos] = \"@\"\n",
    "\n",
    "            self.robot_pos = next_pos\n",
    "\n",
    "            return None\n",
    "\n",
    "        if self.floor[next_pos] == \"O\":\n",
    "            print(f\"Next position: {next_pos}, found O\")\n",
    "\n",
    "            if direction == \">\":\n",
    "                row_vals = self.floor[next_pos[0], next_pos[1] :]\n",
    "                empty_spaces = np.where(row_vals == \".\")[0]\n",
    "\n",
    "                if len(empty_spaces) == 0:\n",
    "                    return None\n",
    "\n",
    "                next_empty_space = (\n",
    "                    next_pos[0],\n",
    "                    next_pos[1] + min(empty_spaces),\n",
    "                )\n",
    "\n",
    "                print(next_empty_space)\n",
    "\n",
    "                for i in range(next_pos[1], next_empty_space[1] + 1):\n",
    "                    self.floor[next_pos[0], i] = \"O\"\n",
    "\n",
    "            elif direction == \"<\":\n",
    "                row_vals = self.floor[next_pos[0], : next_pos[1]]\n",
    "                empty_spaces = np.where(row_vals == \".\")[0]\n",
    "\n",
    "                if len(empty_spaces) == 0:\n",
    "                    return None\n",
    "\n",
    "                next_empty_space = (\n",
    "                    next_pos[0],\n",
    "                    max(empty_spaces),\n",
    "                )\n",
    "\n",
    "                for i in range(next_pos[1], next_empty_space[1] - 1, -1):\n",
    "                    self.floor[next_pos[0], i] = \"O\"\n",
    "\n",
    "            elif direction == \"^\":\n",
    "                col_vals = self.floor[: next_pos[0], next_pos[1]]\n",
    "                empty_spaces = np.where(col_vals == \".\")[0]\n",
    "\n",
    "                if len(empty_spaces) == 0:\n",
    "                    return None\n",
    "\n",
    "                next_empty_space = (max(empty_spaces), next_pos[1])\n",
    "\n",
    "                for i in range(next_pos[0], next_empty_space[0] - 1, -1):\n",
    "                    self.floor[i, next_pos[1]] = \"O\"\n",
    "\n",
    "            elif direction == \"v\":\n",
    "                col_vals = self.floor[next_pos[0] :, next_pos[1]]\n",
    "                empty_spaces = np.where(col_vals == \".\")[0]\n",
    "\n",
    "                print(col_vals, empty_spaces)\n",
    "\n",
    "                if len(empty_spaces) == 0:\n",
    "                    return None\n",
    "\n",
    "                next_empty_space = (next_pos[0] + min(empty_spaces), next_pos[1])\n",
    "                print(next_empty_space)\n",
    "\n",
    "                for i in range(next_pos[0], next_empty_space[0] + 1):\n",
    "                    print(f\"operating on {i, next_pos[1]}\")\n",
    "                    self.floor[i, next_pos[1]] = \"O\"\n",
    "\n",
    "            self.floor[self.robot_pos] = \".\"\n",
    "            self.floor[next_pos] = \"@\"\n",
    "\n",
    "            self.robot_pos = next_pos\n",
    "\n",
    "            return None\n"
   ]
  },
  {
   "cell_type": "code",
   "execution_count": 211,
   "metadata": {},
   "outputs": [],
   "source": [
    "floor = Floor(floor_map)"
   ]
  },
  {
   "cell_type": "code",
   "execution_count": 212,
   "metadata": {},
   "outputs": [
    {
     "data": {
      "text/html": [
       "<pre style=\"white-space:pre;overflow-x:auto;line-height:normal;font-family:Menlo,'DejaVu Sans Mono',consolas,'Courier New',monospace\"></pre>\n"
      ],
      "text/plain": []
     },
     "metadata": {},
     "output_type": "display_data"
    },
    {
     "data": {
      "text/plain": [
       "\n",
       "\u001b[1;35marray\u001b[0m\u001b[1m(\u001b[0m\u001b[1m[\u001b[0m\u001b[1m[\u001b[0m\u001b[32m'#'\u001b[0m, \u001b[32m'#'\u001b[0m, \u001b[32m'#'\u001b[0m, \u001b[32m'#'\u001b[0m, \u001b[32m'#'\u001b[0m, \u001b[32m'#'\u001b[0m, \u001b[32m'#'\u001b[0m, \u001b[32m'#'\u001b[0m\u001b[1m]\u001b[0m,\n",
       "       \u001b[1m[\u001b[0m\u001b[32m'#'\u001b[0m, \u001b[32m'.'\u001b[0m, \u001b[32m'.'\u001b[0m, \u001b[32m'O'\u001b[0m, \u001b[32m'.'\u001b[0m, \u001b[32m'O'\u001b[0m, \u001b[32m'.'\u001b[0m, \u001b[32m'#'\u001b[0m\u001b[1m]\u001b[0m,\n",
       "       \u001b[1m[\u001b[0m\u001b[32m'#'\u001b[0m, \u001b[32m'#'\u001b[0m, \u001b[32m'.'\u001b[0m, \u001b[32m'.'\u001b[0m, \u001b[32m'O'\u001b[0m, \u001b[32m'@'\u001b[0m, \u001b[32m'.'\u001b[0m, \u001b[32m'#'\u001b[0m\u001b[1m]\u001b[0m,\n",
       "       \u001b[1m[\u001b[0m\u001b[32m'#'\u001b[0m, \u001b[32m'.'\u001b[0m, \u001b[32m'.'\u001b[0m, \u001b[32m'.'\u001b[0m, \u001b[32m'O'\u001b[0m, \u001b[32m'.'\u001b[0m, \u001b[32m'.'\u001b[0m, \u001b[32m'#'\u001b[0m\u001b[1m]\u001b[0m,\n",
       "       \u001b[1m[\u001b[0m\u001b[32m'#'\u001b[0m, \u001b[32m'.'\u001b[0m, \u001b[32m'#'\u001b[0m, \u001b[32m'.'\u001b[0m, \u001b[32m'#'\u001b[0m, \u001b[32m'.'\u001b[0m, \u001b[32m'.'\u001b[0m, \u001b[32m'#'\u001b[0m\u001b[1m]\u001b[0m,\n",
       "       \u001b[1m[\u001b[0m\u001b[32m'#'\u001b[0m, \u001b[32m'.'\u001b[0m, \u001b[32m'.'\u001b[0m, \u001b[32m'.'\u001b[0m, \u001b[32m'O'\u001b[0m, \u001b[32m'.'\u001b[0m, \u001b[32m'.'\u001b[0m, \u001b[32m'#'\u001b[0m\u001b[1m]\u001b[0m,\n",
       "       \u001b[1m[\u001b[0m\u001b[32m'#'\u001b[0m, \u001b[32m'.'\u001b[0m, \u001b[32m'.'\u001b[0m, \u001b[32m'.'\u001b[0m, \u001b[32m'.'\u001b[0m, \u001b[32m'.'\u001b[0m, \u001b[32m'.'\u001b[0m, \u001b[32m'#'\u001b[0m\u001b[1m]\u001b[0m,\n",
       "       \u001b[1m[\u001b[0m\u001b[32m'#'\u001b[0m, \u001b[32m'#'\u001b[0m, \u001b[32m'#'\u001b[0m, \u001b[32m'#'\u001b[0m, \u001b[32m'#'\u001b[0m, \u001b[32m'#'\u001b[0m, \u001b[32m'#'\u001b[0m, \u001b[32m'#'\u001b[0m\u001b[1m]\u001b[0m\u001b[1m]\u001b[0m, \u001b[33mdtype\u001b[0m=\u001b[32m'<U1'\u001b[0m\u001b[1m)\u001b[0m"
      ]
     },
     "execution_count": 212,
     "metadata": {},
     "output_type": "execute_result"
    }
   ],
   "source": [
    "floor.floor"
   ]
  },
  {
   "cell_type": "code",
   "execution_count": 213,
   "metadata": {},
   "outputs": [
    {
     "data": {
      "text/html": [
       "<pre style=\"white-space:pre;overflow-x:auto;line-height:normal;font-family:Menlo,'DejaVu Sans Mono',consolas,'Courier New',monospace\">Next position: <span style=\"font-weight: bold\">(</span><span style=\"color: #008080; text-decoration-color: #008080; font-weight: bold\">2</span>, <span style=\"color: #008080; text-decoration-color: #008080; font-weight: bold\">4</span><span style=\"font-weight: bold\">)</span>, found O\n",
       "</pre>\n"
      ],
      "text/plain": [
       "Next position: \u001b[1m(\u001b[0m\u001b[1;36m2\u001b[0m, \u001b[1;36m4\u001b[0m\u001b[1m)\u001b[0m, found O\n"
      ]
     },
     "metadata": {},
     "output_type": "display_data"
    },
    {
     "data": {
      "text/html": [
       "<pre style=\"white-space:pre;overflow-x:auto;line-height:normal;font-family:Menlo,'DejaVu Sans Mono',consolas,'Courier New',monospace\">Next position: <span style=\"font-weight: bold\">(</span><span style=\"color: #008080; text-decoration-color: #008080; font-weight: bold\">3</span>, <span style=\"color: #008080; text-decoration-color: #008080; font-weight: bold\">4</span><span style=\"font-weight: bold\">)</span>, found O\n",
       "</pre>\n"
      ],
      "text/plain": [
       "Next position: \u001b[1m(\u001b[0m\u001b[1;36m3\u001b[0m, \u001b[1;36m4\u001b[0m\u001b[1m)\u001b[0m, found O\n"
      ]
     },
     "metadata": {},
     "output_type": "display_data"
    },
    {
     "data": {
      "text/html": [
       "<pre style=\"white-space:pre;overflow-x:auto;line-height:normal;font-family:Menlo,'DejaVu Sans Mono',consolas,'Courier New',monospace\"><span style=\"font-weight: bold\">[</span><span style=\"color: #008000; text-decoration-color: #008000\">'O'</span> <span style=\"color: #008000; text-decoration-color: #008000\">'#'</span> <span style=\"color: #008000; text-decoration-color: #008000\">'O'</span> <span style=\"color: #008000; text-decoration-color: #008000\">'.'</span> <span style=\"color: #008000; text-decoration-color: #008000\">'#'</span><span style=\"font-weight: bold\">]</span> <span style=\"font-weight: bold\">[</span><span style=\"color: #008080; text-decoration-color: #008080; font-weight: bold\">3</span><span style=\"font-weight: bold\">]</span>\n",
       "</pre>\n"
      ],
      "text/plain": [
       "\u001b[1m[\u001b[0m\u001b[32m'O'\u001b[0m \u001b[32m'#'\u001b[0m \u001b[32m'O'\u001b[0m \u001b[32m'.'\u001b[0m \u001b[32m'#'\u001b[0m\u001b[1m]\u001b[0m \u001b[1m[\u001b[0m\u001b[1;36m3\u001b[0m\u001b[1m]\u001b[0m\n"
      ]
     },
     "metadata": {},
     "output_type": "display_data"
    },
    {
     "data": {
      "text/html": [
       "<pre style=\"white-space:pre;overflow-x:auto;line-height:normal;font-family:Menlo,'DejaVu Sans Mono',consolas,'Courier New',monospace\"><span style=\"font-weight: bold\">(</span><span style=\"color: #800080; text-decoration-color: #800080; font-weight: bold\">np.int64</span><span style=\"font-weight: bold\">(</span><span style=\"color: #008080; text-decoration-color: #008080; font-weight: bold\">6</span><span style=\"font-weight: bold\">)</span>, <span style=\"color: #008080; text-decoration-color: #008080; font-weight: bold\">4</span><span style=\"font-weight: bold\">)</span>\n",
       "</pre>\n"
      ],
      "text/plain": [
       "\u001b[1m(\u001b[0m\u001b[1;35mnp.int64\u001b[0m\u001b[1m(\u001b[0m\u001b[1;36m6\u001b[0m\u001b[1m)\u001b[0m, \u001b[1;36m4\u001b[0m\u001b[1m)\u001b[0m\n"
      ]
     },
     "metadata": {},
     "output_type": "display_data"
    },
    {
     "data": {
      "text/html": [
       "<pre style=\"white-space:pre;overflow-x:auto;line-height:normal;font-family:Menlo,'DejaVu Sans Mono',consolas,'Courier New',monospace\">operating on <span style=\"font-weight: bold\">(</span><span style=\"color: #008080; text-decoration-color: #008080; font-weight: bold\">3</span>, <span style=\"color: #008080; text-decoration-color: #008080; font-weight: bold\">4</span><span style=\"font-weight: bold\">)</span>\n",
       "</pre>\n"
      ],
      "text/plain": [
       "operating on \u001b[1m(\u001b[0m\u001b[1;36m3\u001b[0m, \u001b[1;36m4\u001b[0m\u001b[1m)\u001b[0m\n"
      ]
     },
     "metadata": {},
     "output_type": "display_data"
    },
    {
     "data": {
      "text/html": [
       "<pre style=\"white-space:pre;overflow-x:auto;line-height:normal;font-family:Menlo,'DejaVu Sans Mono',consolas,'Courier New',monospace\">operating on <span style=\"font-weight: bold\">(</span><span style=\"color: #008080; text-decoration-color: #008080; font-weight: bold\">4</span>, <span style=\"color: #008080; text-decoration-color: #008080; font-weight: bold\">4</span><span style=\"font-weight: bold\">)</span>\n",
       "</pre>\n"
      ],
      "text/plain": [
       "operating on \u001b[1m(\u001b[0m\u001b[1;36m4\u001b[0m, \u001b[1;36m4\u001b[0m\u001b[1m)\u001b[0m\n"
      ]
     },
     "metadata": {},
     "output_type": "display_data"
    },
    {
     "data": {
      "text/html": [
       "<pre style=\"white-space:pre;overflow-x:auto;line-height:normal;font-family:Menlo,'DejaVu Sans Mono',consolas,'Courier New',monospace\">operating on <span style=\"font-weight: bold\">(</span><span style=\"color: #008080; text-decoration-color: #008080; font-weight: bold\">5</span>, <span style=\"color: #008080; text-decoration-color: #008080; font-weight: bold\">4</span><span style=\"font-weight: bold\">)</span>\n",
       "</pre>\n"
      ],
      "text/plain": [
       "operating on \u001b[1m(\u001b[0m\u001b[1;36m5\u001b[0m, \u001b[1;36m4\u001b[0m\u001b[1m)\u001b[0m\n"
      ]
     },
     "metadata": {},
     "output_type": "display_data"
    },
    {
     "data": {
      "text/html": [
       "<pre style=\"white-space:pre;overflow-x:auto;line-height:normal;font-family:Menlo,'DejaVu Sans Mono',consolas,'Courier New',monospace\">operating on <span style=\"font-weight: bold\">(</span><span style=\"color: #008080; text-decoration-color: #008080; font-weight: bold\">6</span>, <span style=\"color: #008080; text-decoration-color: #008080; font-weight: bold\">4</span><span style=\"font-weight: bold\">)</span>\n",
       "</pre>\n"
      ],
      "text/plain": [
       "operating on \u001b[1m(\u001b[0m\u001b[1;36m6\u001b[0m, \u001b[1;36m4\u001b[0m\u001b[1m)\u001b[0m\n"
      ]
     },
     "metadata": {},
     "output_type": "display_data"
    }
   ],
   "source": [
    "# floor.move(\"^\")\n",
    "# floor.move(\">\")\n",
    "# floor.move(\">\")\n",
    "# floor.move(\">\")\n",
    "floor.move(\"<\")\n",
    "floor.move(\"v\")\n",
    "# floor.move(\"<\")\n",
    "# floor.move(\"<\")"
   ]
  },
  {
   "cell_type": "code",
   "execution_count": 214,
   "metadata": {},
   "outputs": [
    {
     "data": {
      "text/html": [
       "<pre style=\"white-space:pre;overflow-x:auto;line-height:normal;font-family:Menlo,'DejaVu Sans Mono',consolas,'Courier New',monospace\"></pre>\n"
      ],
      "text/plain": []
     },
     "metadata": {},
     "output_type": "display_data"
    },
    {
     "data": {
      "text/plain": [
       "\n",
       "\u001b[1;35marray\u001b[0m\u001b[1m(\u001b[0m\u001b[1m[\u001b[0m\u001b[1m[\u001b[0m\u001b[32m'#'\u001b[0m, \u001b[32m'#'\u001b[0m, \u001b[32m'#'\u001b[0m, \u001b[32m'#'\u001b[0m, \u001b[32m'#'\u001b[0m, \u001b[32m'#'\u001b[0m, \u001b[32m'#'\u001b[0m, \u001b[32m'#'\u001b[0m\u001b[1m]\u001b[0m,\n",
       "       \u001b[1m[\u001b[0m\u001b[32m'#'\u001b[0m, \u001b[32m'.'\u001b[0m, \u001b[32m'.'\u001b[0m, \u001b[32m'O'\u001b[0m, \u001b[32m'.'\u001b[0m, \u001b[32m'O'\u001b[0m, \u001b[32m'.'\u001b[0m, \u001b[32m'#'\u001b[0m\u001b[1m]\u001b[0m,\n",
       "       \u001b[1m[\u001b[0m\u001b[32m'#'\u001b[0m, \u001b[32m'#'\u001b[0m, \u001b[32m'.'\u001b[0m, \u001b[32m'O'\u001b[0m, \u001b[32m'.'\u001b[0m, \u001b[32m'.'\u001b[0m, \u001b[32m'.'\u001b[0m, \u001b[32m'#'\u001b[0m\u001b[1m]\u001b[0m,\n",
       "       \u001b[1m[\u001b[0m\u001b[32m'#'\u001b[0m, \u001b[32m'.'\u001b[0m, \u001b[32m'.'\u001b[0m, \u001b[32m'.'\u001b[0m, \u001b[32m'@'\u001b[0m, \u001b[32m'.'\u001b[0m, \u001b[32m'.'\u001b[0m, \u001b[32m'#'\u001b[0m\u001b[1m]\u001b[0m,\n",
       "       \u001b[1m[\u001b[0m\u001b[32m'#'\u001b[0m, \u001b[32m'.'\u001b[0m, \u001b[32m'#'\u001b[0m, \u001b[32m'.'\u001b[0m, \u001b[32m'O'\u001b[0m, \u001b[32m'.'\u001b[0m, \u001b[32m'.'\u001b[0m, \u001b[32m'#'\u001b[0m\u001b[1m]\u001b[0m,\n",
       "       \u001b[1m[\u001b[0m\u001b[32m'#'\u001b[0m, \u001b[32m'.'\u001b[0m, \u001b[32m'.'\u001b[0m, \u001b[32m'.'\u001b[0m, \u001b[32m'O'\u001b[0m, \u001b[32m'.'\u001b[0m, \u001b[32m'.'\u001b[0m, \u001b[32m'#'\u001b[0m\u001b[1m]\u001b[0m,\n",
       "       \u001b[1m[\u001b[0m\u001b[32m'#'\u001b[0m, \u001b[32m'.'\u001b[0m, \u001b[32m'.'\u001b[0m, \u001b[32m'.'\u001b[0m, \u001b[32m'O'\u001b[0m, \u001b[32m'.'\u001b[0m, \u001b[32m'.'\u001b[0m, \u001b[32m'#'\u001b[0m\u001b[1m]\u001b[0m,\n",
       "       \u001b[1m[\u001b[0m\u001b[32m'#'\u001b[0m, \u001b[32m'#'\u001b[0m, \u001b[32m'#'\u001b[0m, \u001b[32m'#'\u001b[0m, \u001b[32m'#'\u001b[0m, \u001b[32m'#'\u001b[0m, \u001b[32m'#'\u001b[0m, \u001b[32m'#'\u001b[0m\u001b[1m]\u001b[0m\u001b[1m]\u001b[0m, \u001b[33mdtype\u001b[0m=\u001b[32m'<U1'\u001b[0m\u001b[1m)\u001b[0m"
      ]
     },
     "execution_count": 214,
     "metadata": {},
     "output_type": "execute_result"
    }
   ],
   "source": [
    "floor.floor"
   ]
  },
  {
   "cell_type": "code",
   "execution_count": 94,
   "metadata": {},
   "outputs": [],
   "source": [
    "def solution_1(input, MAX_X, MAX_Y):\n",
    "    robots = [Robot(*parse_p_v(line), MAX_X, MAX_Y) for line in input]\n",
    "    floor = Floor(MAX_X, MAX_Y)\n",
    "    for robot in robots:\n",
    "        floor.add_robot(robot)\n",
    "\n",
    "    for robot in robots:\n",
    "        robot.take_steps(100)\n",
    "\n",
    "    floor_grid = floor.check_grid()\n",
    "\n",
    "    q1 = [floor_grid[i][: MAX_X // 2] for i in range(MAX_Y // 2)]\n",
    "    q2 = [floor_grid[i][(MAX_X // 2) + 1 :] for i in range(MAX_Y // 2)]\n",
    "    q3 = [floor_grid[i][: MAX_X // 2] for i in range((MAX_Y // 2) + 1, MAX_Y)]\n",
    "    q4 = [floor_grid[i][(MAX_X // 2) + 1 :] for i in range((MAX_Y // 2) + 1, MAX_Y)]\n",
    "\n",
    "    return np.sum(q1) * np.sum(q2) * np.sum(q3) * np.sum(q4)\n"
   ]
  },
  {
   "cell_type": "code",
   "execution_count": 95,
   "metadata": {},
   "outputs": [
    {
     "data": {
      "text/html": [
       "<pre style=\"white-space:pre;overflow-x:auto;line-height:normal;font-family:Menlo,'DejaVu Sans Mono',consolas,'Courier New',monospace\">Part <span style=\"color: #008080; text-decoration-color: #008080; font-weight: bold\">1</span> - Sample: <span style=\"color: #008080; text-decoration-color: #008080; font-weight: bold\">12.0</span>\n",
       "</pre>\n"
      ],
      "text/plain": [
       "Part \u001b[1;36m1\u001b[0m - Sample: \u001b[1;36m12.0\u001b[0m\n"
      ]
     },
     "metadata": {},
     "output_type": "display_data"
    },
    {
     "data": {
      "text/html": [
       "<pre style=\"white-space:pre;overflow-x:auto;line-height:normal;font-family:Menlo,'DejaVu Sans Mono',consolas,'Courier New',monospace\">Part <span style=\"color: #008080; text-decoration-color: #008080; font-weight: bold\">1</span> - Actual: <span style=\"color: #008080; text-decoration-color: #008080; font-weight: bold\">230435667.0</span>\n",
       "</pre>\n"
      ],
      "text/plain": [
       "Part \u001b[1;36m1\u001b[0m - Actual: \u001b[1;36m230435667.0\u001b[0m\n"
      ]
     },
     "metadata": {},
     "output_type": "display_data"
    }
   ],
   "source": [
    "print(f\"Part 1 - Sample: {solution_1(sample_input, MAX_X=11, MAX_Y=7)}\")\n",
    "print(f\"Part 1 - Actual: {solution_1(actual_input, MAX_X=101, MAX_Y=103)}\")\n"
   ]
  },
  {
   "cell_type": "markdown",
   "metadata": {},
   "source": [
    "## Part 2"
   ]
  },
  {
   "cell_type": "code",
   "execution_count": 96,
   "metadata": {},
   "outputs": [
    {
     "data": {
      "text/html": [
       "<pre style=\"white-space:pre;overflow-x:auto;line-height:normal;font-family:Menlo,'DejaVu Sans Mono',consolas,'Courier New',monospace\"></pre>\n"
      ],
      "text/plain": []
     },
     "metadata": {},
     "output_type": "display_data"
    },
    {
     "data": {
      "text/plain": [
       "\n",
       "\u001b[1m[\u001b[0m\n",
       "    \u001b[1m[\u001b[0m\u001b[32m'\u001b[0m\u001b[32mp\u001b[0m\u001b[32m=\u001b[0m\u001b[32m0\u001b[0m\u001b[32m,4'\u001b[0m, \u001b[32m'\u001b[0m\u001b[32mv\u001b[0m\u001b[32m=\u001b[0m\u001b[32m3\u001b[0m\u001b[32m,-3'\u001b[0m\u001b[1m]\u001b[0m,\n",
       "    \u001b[1m[\u001b[0m\u001b[32m'\u001b[0m\u001b[32mp\u001b[0m\u001b[32m=\u001b[0m\u001b[32m6\u001b[0m\u001b[32m,3'\u001b[0m, \u001b[32m'\u001b[0m\u001b[32mv\u001b[0m\u001b[32m=-1,-3'\u001b[0m\u001b[1m]\u001b[0m,\n",
       "    \u001b[1m[\u001b[0m\u001b[32m'\u001b[0m\u001b[32mp\u001b[0m\u001b[32m=\u001b[0m\u001b[32m10\u001b[0m\u001b[32m,3'\u001b[0m, \u001b[32m'\u001b[0m\u001b[32mv\u001b[0m\u001b[32m=-1,2'\u001b[0m\u001b[1m]\u001b[0m,\n",
       "    \u001b[1m[\u001b[0m\u001b[32m'\u001b[0m\u001b[32mp\u001b[0m\u001b[32m=\u001b[0m\u001b[32m2\u001b[0m\u001b[32m,0'\u001b[0m, \u001b[32m'\u001b[0m\u001b[32mv\u001b[0m\u001b[32m=\u001b[0m\u001b[32m2\u001b[0m\u001b[32m,-1'\u001b[0m\u001b[1m]\u001b[0m,\n",
       "    \u001b[1m[\u001b[0m\u001b[32m'\u001b[0m\u001b[32mp\u001b[0m\u001b[32m=\u001b[0m\u001b[32m0\u001b[0m\u001b[32m,0'\u001b[0m, \u001b[32m'\u001b[0m\u001b[32mv\u001b[0m\u001b[32m=\u001b[0m\u001b[32m1\u001b[0m\u001b[32m,3'\u001b[0m\u001b[1m]\u001b[0m,\n",
       "    \u001b[1m[\u001b[0m\u001b[32m'\u001b[0m\u001b[32mp\u001b[0m\u001b[32m=\u001b[0m\u001b[32m3\u001b[0m\u001b[32m,0'\u001b[0m, \u001b[32m'\u001b[0m\u001b[32mv\u001b[0m\u001b[32m=-2,-2'\u001b[0m\u001b[1m]\u001b[0m,\n",
       "    \u001b[1m[\u001b[0m\u001b[32m'\u001b[0m\u001b[32mp\u001b[0m\u001b[32m=\u001b[0m\u001b[32m7\u001b[0m\u001b[32m,6'\u001b[0m, \u001b[32m'\u001b[0m\u001b[32mv\u001b[0m\u001b[32m=-1,-3'\u001b[0m\u001b[1m]\u001b[0m,\n",
       "    \u001b[1m[\u001b[0m\u001b[32m'\u001b[0m\u001b[32mp\u001b[0m\u001b[32m=\u001b[0m\u001b[32m3\u001b[0m\u001b[32m,0'\u001b[0m, \u001b[32m'\u001b[0m\u001b[32mv\u001b[0m\u001b[32m=-1,-2'\u001b[0m\u001b[1m]\u001b[0m,\n",
       "    \u001b[1m[\u001b[0m\u001b[32m'\u001b[0m\u001b[32mp\u001b[0m\u001b[32m=\u001b[0m\u001b[32m9\u001b[0m\u001b[32m,3'\u001b[0m, \u001b[32m'\u001b[0m\u001b[32mv\u001b[0m\u001b[32m=\u001b[0m\u001b[32m2\u001b[0m\u001b[32m,3'\u001b[0m\u001b[1m]\u001b[0m,\n",
       "    \u001b[1m[\u001b[0m\u001b[32m'\u001b[0m\u001b[32mp\u001b[0m\u001b[32m=\u001b[0m\u001b[32m7\u001b[0m\u001b[32m,3'\u001b[0m, \u001b[32m'\u001b[0m\u001b[32mv\u001b[0m\u001b[32m=-1,2'\u001b[0m\u001b[1m]\u001b[0m,\n",
       "    \u001b[1m[\u001b[0m\u001b[32m'\u001b[0m\u001b[32mp\u001b[0m\u001b[32m=\u001b[0m\u001b[32m2\u001b[0m\u001b[32m,4'\u001b[0m, \u001b[32m'\u001b[0m\u001b[32mv\u001b[0m\u001b[32m=\u001b[0m\u001b[32m2\u001b[0m\u001b[32m,-3'\u001b[0m\u001b[1m]\u001b[0m,\n",
       "    \u001b[1m[\u001b[0m\u001b[32m'\u001b[0m\u001b[32mp\u001b[0m\u001b[32m=\u001b[0m\u001b[32m9\u001b[0m\u001b[32m,5'\u001b[0m, \u001b[32m'\u001b[0m\u001b[32mv\u001b[0m\u001b[32m=-3,-3'\u001b[0m\u001b[1m]\u001b[0m\n",
       "\u001b[1m]\u001b[0m"
      ]
     },
     "execution_count": 96,
     "metadata": {},
     "output_type": "execute_result"
    }
   ],
   "source": [
    "sample_input"
   ]
  },
  {
   "cell_type": "code",
   "execution_count": 115,
   "metadata": {},
   "outputs": [],
   "source": [
    "import torch as t\n",
    "\n",
    "floor_images = []\n",
    "\n",
    "\n",
    "def solution_2(input, MAX_X, MAX_Y):\n",
    "    robots = [Robot(*parse_p_v(line), MAX_X, MAX_Y) for line in input]\n",
    "    floor = Floor(MAX_X, MAX_Y)\n",
    "    for robot in robots:\n",
    "        floor.add_robot(robot)\n",
    "\n",
    "    i = 0\n",
    "\n",
    "    while True:\n",
    "        for robot in robots:\n",
    "            robot.take_step()\n",
    "\n",
    "        i += 1\n",
    "        floor_grid = floor.check_grid()\n",
    "\n",
    "        floor_images.append(t.Tensor(floor_grid))\n",
    "\n",
    "        if np.max(floor_grid) == 1:\n",
    "            print(f\"Found at step {i}\")\n",
    "            return floor"
   ]
  },
  {
   "cell_type": "code",
   "execution_count": 116,
   "metadata": {},
   "outputs": [
    {
     "data": {
      "text/html": [
       "<pre style=\"white-space:pre;overflow-x:auto;line-height:normal;font-family:Menlo,'DejaVu Sans Mono',consolas,'Courier New',monospace\">Found at step <span style=\"color: #008080; text-decoration-color: #008080; font-weight: bold\">7709</span>\n",
       "</pre>\n"
      ],
      "text/plain": [
       "Found at step \u001b[1;36m7709\u001b[0m\n"
      ]
     },
     "metadata": {},
     "output_type": "display_data"
    }
   ],
   "source": [
    "final_floor = solution_2(actual_input, MAX_X=101, MAX_Y=103)"
   ]
  }
 ],
 "metadata": {
  "kernelspec": {
   "display_name": ".venv",
   "language": "python",
   "name": "python3"
  },
  "language_info": {
   "codemirror_mode": {
    "name": "ipython",
    "version": 3
   },
   "file_extension": ".py",
   "mimetype": "text/x-python",
   "name": "python",
   "nbconvert_exporter": "python",
   "pygments_lexer": "ipython3",
   "version": "3.12.7"
  }
 },
 "nbformat": 4,
 "nbformat_minor": 2
}
