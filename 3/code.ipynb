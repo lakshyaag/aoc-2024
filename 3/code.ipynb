{
 "cells": [
  {
   "cell_type": "markdown",
   "metadata": {},
   "source": [
    "## Advent of Code 2024 - Day 3"
   ]
  },
  {
   "cell_type": "code",
   "execution_count": 1,
   "metadata": {},
   "outputs": [],
   "source": [
    "import re\n",
    "from rich import print\n",
    "from httpx import request\n",
    "import os\n",
    "\n",
    "%load_ext rich\n"
   ]
  },
  {
   "cell_type": "code",
   "execution_count": 2,
   "metadata": {},
   "outputs": [],
   "source": [
    "def parse_input(path):\n",
    "    # Read file and split into lines\n",
    "    with open(path, \"r\") as file:\n",
    "        result = file.read()\n",
    "    # Optional: Remove any empty lines if needed\n",
    "    return result"
   ]
  },
  {
   "cell_type": "code",
   "execution_count": 3,
   "metadata": {},
   "outputs": [],
   "source": [
    "sample_input = parse_input(\"sample.txt\")\n",
    "sample_input_2 = parse_input(\"sample_2.txt\")\n",
    "actual_input = parse_input(\"input.txt\")"
   ]
  },
  {
   "cell_type": "markdown",
   "metadata": {},
   "source": [
    "## Part 1"
   ]
  },
  {
   "cell_type": "code",
   "execution_count": 4,
   "metadata": {},
   "outputs": [
    {
     "data": {
      "text/html": [
       "<pre style=\"white-space:pre;overflow-x:auto;line-height:normal;font-family:Menlo,'DejaVu Sans Mono',consolas,'Courier New',monospace\"></pre>\n"
      ],
      "text/plain": []
     },
     "metadata": {},
     "output_type": "display_data"
    },
    {
     "data": {
      "text/plain": [
       "\u001b[32m'xmul\u001b[0m\u001b[32m(\u001b[0m\u001b[32m2,4\u001b[0m\u001b[32m)\u001b[0m\u001b[32m%&mul\u001b[0m\u001b[32m[\u001b[0m\u001b[32m3,7\u001b[0m\u001b[32m]\u001b[0m\u001b[32m!@^do_not_mul\u001b[0m\u001b[32m(\u001b[0m\u001b[32m5,5\u001b[0m\u001b[32m)\u001b[0m\u001b[32m+mul\u001b[0m\u001b[32m(\u001b[0m\u001b[32m32,64\u001b[0m\u001b[32m]\u001b[0m\u001b[32mthen\u001b[0m\u001b[32m(\u001b[0m\u001b[32mmul\u001b[0m\u001b[32m(\u001b[0m\u001b[32m11,8\u001b[0m\u001b[32m)\u001b[0m\u001b[32mmul\u001b[0m\u001b[32m(\u001b[0m\u001b[32m8,5\u001b[0m\u001b[32m)\u001b[0m\u001b[32m)\u001b[0m\u001b[32m'\u001b[0m"
      ]
     },
     "execution_count": 4,
     "metadata": {},
     "output_type": "execute_result"
    }
   ],
   "source": [
    "sample_input"
   ]
  },
  {
   "cell_type": "code",
   "execution_count": 5,
   "metadata": {},
   "outputs": [],
   "source": [
    "def solution_1(input: str) -> int:\n",
    "    numbers = re.findall(r\"mul\\((\\d+),(\\d+)\\)\", input)\n",
    "    return sum([int(x) * int(y) for x, y in numbers])"
   ]
  },
  {
   "cell_type": "code",
   "execution_count": 6,
   "metadata": {},
   "outputs": [
    {
     "data": {
      "text/html": [
       "<pre style=\"white-space:pre;overflow-x:auto;line-height:normal;font-family:Menlo,'DejaVu Sans Mono',consolas,'Courier New',monospace\">Part <span style=\"color: #008080; text-decoration-color: #008080; font-weight: bold\">1</span> - Sample: <span style=\"color: #008080; text-decoration-color: #008080; font-weight: bold\">161</span>\n",
       "</pre>\n"
      ],
      "text/plain": [
       "Part \u001b[1;36m1\u001b[0m - Sample: \u001b[1;36m161\u001b[0m\n"
      ]
     },
     "metadata": {},
     "output_type": "display_data"
    },
    {
     "data": {
      "text/html": [
       "<pre style=\"white-space:pre;overflow-x:auto;line-height:normal;font-family:Menlo,'DejaVu Sans Mono',consolas,'Courier New',monospace\">Part <span style=\"color: #008080; text-decoration-color: #008080; font-weight: bold\">1</span> - Actual: <span style=\"color: #008080; text-decoration-color: #008080; font-weight: bold\">163931492</span>\n",
       "</pre>\n"
      ],
      "text/plain": [
       "Part \u001b[1;36m1\u001b[0m - Actual: \u001b[1;36m163931492\u001b[0m\n"
      ]
     },
     "metadata": {},
     "output_type": "display_data"
    }
   ],
   "source": [
    "print(f'Part 1 - Sample: {solution_1(sample_input)}')\n",
    "print(f'Part 1 - Actual: {solution_1(actual_input)}')\n"
   ]
  },
  {
   "cell_type": "markdown",
   "metadata": {},
   "source": [
    "## Part 2"
   ]
  },
  {
   "cell_type": "code",
   "execution_count": 7,
   "metadata": {},
   "outputs": [
    {
     "data": {
      "text/html": [
       "<pre style=\"white-space:pre;overflow-x:auto;line-height:normal;font-family:Menlo,'DejaVu Sans Mono',consolas,'Courier New',monospace\"></pre>\n"
      ],
      "text/plain": []
     },
     "metadata": {},
     "output_type": "display_data"
    },
    {
     "data": {
      "text/plain": [
       "\u001b[32m\"xmul\u001b[0m\u001b[32m(\u001b[0m\u001b[32m2,4\u001b[0m\u001b[32m)\u001b[0m\u001b[32m&mul\u001b[0m\u001b[32m[\u001b[0m\u001b[32m3,7\u001b[0m\u001b[32m]\u001b[0m\u001b[32m!^don't\u001b[0m\u001b[32m(\u001b[0m\u001b[32m)\u001b[0m\u001b[32m_mul\u001b[0m\u001b[32m(\u001b[0m\u001b[32m5,5\u001b[0m\u001b[32m)\u001b[0m\u001b[32m+mul\u001b[0m\u001b[32m(\u001b[0m\u001b[32m32,64\u001b[0m\u001b[32m]\u001b[0m\u001b[32m(\u001b[0m\u001b[32mmul\u001b[0m\u001b[32m(\u001b[0m\u001b[32m11,8\u001b[0m\u001b[32m)\u001b[0m\u001b[32mundo\u001b[0m\u001b[32m(\u001b[0m\u001b[32m)\u001b[0m\u001b[32m?mul\u001b[0m\u001b[32m(\u001b[0m\u001b[32m8,5\u001b[0m\u001b[32m)\u001b[0m\u001b[32m)\u001b[0m\u001b[32m\"\u001b[0m"
      ]
     },
     "execution_count": 7,
     "metadata": {},
     "output_type": "execute_result"
    }
   ],
   "source": [
    "sample_input_2"
   ]
  },
  {
   "cell_type": "code",
   "execution_count": 8,
   "metadata": {},
   "outputs": [],
   "source": [
    "def solution_2(input: str) -> int:\n",
    "    numbers = re.findall(r\"mul\\((\\d+),(\\d+)\\)|(do\\(\\))|(don't\\(\\))\", input)\n",
    "\n",
    "    total = 0\n",
    "    enabled = True\n",
    "\n",
    "    for a, b, do, dont in numbers:\n",
    "        if do or dont:\n",
    "            enabled = bool(do)\n",
    "        else:\n",
    "            total += (int(a) * int(b)) * enabled\n",
    "\n",
    "    return total"
   ]
  },
  {
   "cell_type": "code",
   "execution_count": 9,
   "metadata": {},
   "outputs": [
    {
     "data": {
      "text/html": [
       "<pre style=\"white-space:pre;overflow-x:auto;line-height:normal;font-family:Menlo,'DejaVu Sans Mono',consolas,'Courier New',monospace\">Part <span style=\"color: #008080; text-decoration-color: #008080; font-weight: bold\">2</span> - Sample: <span style=\"color: #008080; text-decoration-color: #008080; font-weight: bold\">48</span>\n",
       "</pre>\n"
      ],
      "text/plain": [
       "Part \u001b[1;36m2\u001b[0m - Sample: \u001b[1;36m48\u001b[0m\n"
      ]
     },
     "metadata": {},
     "output_type": "display_data"
    },
    {
     "data": {
      "text/html": [
       "<pre style=\"white-space:pre;overflow-x:auto;line-height:normal;font-family:Menlo,'DejaVu Sans Mono',consolas,'Courier New',monospace\">Part <span style=\"color: #008080; text-decoration-color: #008080; font-weight: bold\">2</span> - Actual: <span style=\"color: #008080; text-decoration-color: #008080; font-weight: bold\">76911921</span>\n",
       "</pre>\n"
      ],
      "text/plain": [
       "Part \u001b[1;36m2\u001b[0m - Actual: \u001b[1;36m76911921\u001b[0m\n"
      ]
     },
     "metadata": {},
     "output_type": "display_data"
    }
   ],
   "source": [
    "print(f'Part 2 - Sample: {solution_2(sample_input_2)}')\n",
    "print(f'Part 2 - Actual: {solution_2(actual_input)}')\n"
   ]
  }
 ],
 "metadata": {
  "kernelspec": {
   "display_name": ".venv",
   "language": "python",
   "name": "python3"
  },
  "language_info": {
   "codemirror_mode": {
    "name": "ipython",
    "version": 3
   },
   "file_extension": ".py",
   "mimetype": "text/x-python",
   "name": "python",
   "nbconvert_exporter": "python",
   "pygments_lexer": "ipython3",
   "version": "3.12.7"
  }
 },
 "nbformat": 4,
 "nbformat_minor": 2
}
