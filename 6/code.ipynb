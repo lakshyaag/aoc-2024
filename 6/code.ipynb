{
 "cells": [
  {
   "cell_type": "markdown",
   "metadata": {},
   "source": [
    "## Advent of Code 2024 - Day 6"
   ]
  },
  {
   "cell_type": "code",
   "execution_count": 1,
   "metadata": {},
   "outputs": [],
   "source": [
    "from rich import print\n",
    "from httpx import request\n",
    "import os\n",
    "\n",
    "from enum import Enum\n",
    "\n",
    "%load_ext rich"
   ]
  },
  {
   "cell_type": "code",
   "execution_count": 2,
   "metadata": {},
   "outputs": [],
   "source": [
    "def parse_input(path):\n",
    "    # Read file and split into lines\n",
    "    with open(path, \"r\") as file:\n",
    "        result = file.read().splitlines()\n",
    "    # Optional: Remove any empty lines if needed\n",
    "    return [line for line in result if line.strip()]"
   ]
  },
  {
   "cell_type": "code",
   "execution_count": 3,
   "metadata": {},
   "outputs": [],
   "source": [
    "sample_input = parse_input(\"sample.txt\")\n",
    "actual_input = parse_input(\"input.txt\")"
   ]
  },
  {
   "cell_type": "markdown",
   "metadata": {},
   "source": [
    "## Part 1"
   ]
  },
  {
   "cell_type": "code",
   "execution_count": 4,
   "metadata": {},
   "outputs": [],
   "source": [
    "class Direction(Enum):\n",
    "    N = 0\n",
    "    E = 90\n",
    "    S = 180\n",
    "    W = 270\n",
    "\n",
    "\n",
    "class Guard:\n",
    "    def __init__(\n",
    "        self, starting_pos: (int, int), direction: Direction, floor_map: list[list[str]]\n",
    "    ):\n",
    "        self.pos: (int, int) = starting_pos\n",
    "        self.direction: Direction = direction\n",
    "        self.floor_map: list[list[str]] = floor_map\n",
    "\n",
    "    def __repr__(self):\n",
    "        return f\"Guard at {self.pos} facing {self.direction}\"\n",
    "\n",
    "    def is_valid_move(self, new_pos: (int, int)):\n",
    "        if (\n",
    "            self.floor_map[new_pos[0]][new_pos[1]] == \"#\"\n",
    "            or self.floor_map[new_pos[0]][new_pos[1]] == \"O\"\n",
    "        ):\n",
    "            return False\n",
    "        return True\n",
    "\n",
    "    def move(self):\n",
    "        x, y = self.pos\n",
    "        dx, dy = 0, 0\n",
    "        if self.direction == Direction.N:\n",
    "            dx, dy = -1, 0\n",
    "        elif self.direction == Direction.E:\n",
    "            dx, dy = 0, 1\n",
    "        elif self.direction == Direction.S:\n",
    "            dx, dy = 1, 0\n",
    "        elif self.direction == Direction.W:\n",
    "            dx, dy = 0, -1\n",
    "        new_pos = x + dx, y + dy\n",
    "\n",
    "        if (\n",
    "            new_pos[0] < 0\n",
    "            or new_pos[0] >= len(self.floor_map)\n",
    "            or new_pos[1] < 0\n",
    "            or new_pos[1] >= len(self.floor_map[0])\n",
    "        ):\n",
    "            return False\n",
    "\n",
    "        if self.is_valid_move(new_pos):\n",
    "            self.pos = new_pos\n",
    "            self.floor_map[new_pos[0]][new_pos[1]] = \"^\"\n",
    "            return True\n",
    "\n",
    "        else:\n",
    "            self.direction = Direction((self.direction.value + 90) % 360)\n",
    "            return True\n",
    "\n",
    "        return False\n",
    "\n",
    "    def draw_floor_map(self):\n",
    "        for line in self.floor_map:\n",
    "            print(\"\".join(line))"
   ]
  },
  {
   "cell_type": "code",
   "execution_count": 5,
   "metadata": {},
   "outputs": [],
   "source": [
    "def solution_1(input):\n",
    "    floor_map = [list(line.strip()) for line in input]\n",
    "    guard_starting_pos = [\n",
    "        (i, f.index(\"^\")) for i, f in enumerate(floor_map) if \"^\" in f\n",
    "    ]\n",
    "\n",
    "    guard = Guard(guard_starting_pos[0], Direction.N, floor_map)\n",
    "\n",
    "    while guard.move():\n",
    "        pass\n",
    "\n",
    "    count = 0\n",
    "\n",
    "    for line in floor_map:\n",
    "        count += line.count(\"^\")\n",
    "\n",
    "    return count"
   ]
  },
  {
   "cell_type": "code",
   "execution_count": 6,
   "metadata": {},
   "outputs": [
    {
     "data": {
      "text/html": [
       "<pre style=\"white-space:pre;overflow-x:auto;line-height:normal;font-family:Menlo,'DejaVu Sans Mono',consolas,'Courier New',monospace\">Part <span style=\"color: #008080; text-decoration-color: #008080; font-weight: bold\">1</span> - Sample: <span style=\"color: #008080; text-decoration-color: #008080; font-weight: bold\">41</span>\n",
       "</pre>\n"
      ],
      "text/plain": [
       "Part \u001b[1;36m1\u001b[0m - Sample: \u001b[1;36m41\u001b[0m\n"
      ]
     },
     "metadata": {},
     "output_type": "display_data"
    },
    {
     "data": {
      "text/html": [
       "<pre style=\"white-space:pre;overflow-x:auto;line-height:normal;font-family:Menlo,'DejaVu Sans Mono',consolas,'Courier New',monospace\">Part <span style=\"color: #008080; text-decoration-color: #008080; font-weight: bold\">1</span> - Actual: <span style=\"color: #008080; text-decoration-color: #008080; font-weight: bold\">5242</span>\n",
       "</pre>\n"
      ],
      "text/plain": [
       "Part \u001b[1;36m1\u001b[0m - Actual: \u001b[1;36m5242\u001b[0m\n"
      ]
     },
     "metadata": {},
     "output_type": "display_data"
    }
   ],
   "source": [
    "print(f'Part 1 - Sample: {solution_1(sample_input)}')\n",
    "print(f'Part 1 - Actual: {solution_1(actual_input)}')\n"
   ]
  },
  {
   "cell_type": "markdown",
   "metadata": {},
   "source": [
    "## Part 2"
   ]
  },
  {
   "cell_type": "code",
   "execution_count": 7,
   "metadata": {},
   "outputs": [
    {
     "data": {
      "text/html": [
       "<pre style=\"white-space:pre;overflow-x:auto;line-height:normal;font-family:Menlo,'DejaVu Sans Mono',consolas,'Courier New',monospace\"></pre>\n"
      ],
      "text/plain": []
     },
     "metadata": {},
     "output_type": "display_data"
    },
    {
     "data": {
      "text/plain": [
       "\n",
       "\u001b[1m[\u001b[0m\n",
       "    \u001b[32m'....#.....'\u001b[0m,\n",
       "    \u001b[32m'.........#'\u001b[0m,\n",
       "    \u001b[32m'..........'\u001b[0m,\n",
       "    \u001b[32m'..#.......'\u001b[0m,\n",
       "    \u001b[32m'.......#..'\u001b[0m,\n",
       "    \u001b[32m'..........'\u001b[0m,\n",
       "    \u001b[32m'.#..^.....'\u001b[0m,\n",
       "    \u001b[32m'........#.'\u001b[0m,\n",
       "    \u001b[32m'#.........'\u001b[0m,\n",
       "    \u001b[32m'......#...'\u001b[0m\n",
       "\u001b[1m]\u001b[0m"
      ]
     },
     "execution_count": 7,
     "metadata": {},
     "output_type": "execute_result"
    }
   ],
   "source": [
    "sample_input"
   ]
  },
  {
   "cell_type": "code",
   "execution_count": 8,
   "metadata": {},
   "outputs": [],
   "source": [
    "def solution_2(input):\n",
    "    potential_obstacles = set()\n",
    "\n",
    "    floor_map = [list(line.strip()) for line in input]\n",
    "    guard_starting_pos = [\n",
    "        (i, f.index(\"^\")) for i, f in enumerate(floor_map) if \"^\" in f\n",
    "    ]\n",
    "\n",
    "    guard_floor_map = floor_map.copy()\n",
    "\n",
    "    guard = Guard(guard_starting_pos[0], Direction.N, guard_floor_map)\n",
    "\n",
    "    while guard.move():\n",
    "        potential_obstacles.add(guard.pos)\n",
    "        pass\n",
    "\n",
    "    valid_obstacle_count = 0\n",
    "    for obstacle in potential_obstacles:\n",
    "        floor_map = [list(line.strip()) for line in input]\n",
    "        updated_floor_map = floor_map.copy()\n",
    "        updated_floor_map[obstacle[0]][obstacle[1]] = \"O\"\n",
    "        guard = Guard(guard_starting_pos[0], Direction.N, floor_map)\n",
    "\n",
    "        guard_pos_set = set()\n",
    "\n",
    "        while guard.move():\n",
    "            if (guard.pos, guard.direction) in guard_pos_set:\n",
    "                valid_obstacle_count += 1\n",
    "                break\n",
    "\n",
    "            guard_pos_set.add((guard.pos, guard.direction))\n",
    "            pass\n",
    "\n",
    "    return valid_obstacle_count\n"
   ]
  },
  {
   "cell_type": "code",
   "execution_count": 9,
   "metadata": {},
   "outputs": [
    {
     "data": {
      "text/html": [
       "<pre style=\"white-space:pre;overflow-x:auto;line-height:normal;font-family:Menlo,'DejaVu Sans Mono',consolas,'Courier New',monospace\">Part <span style=\"color: #008080; text-decoration-color: #008080; font-weight: bold\">2</span> - Sample: <span style=\"color: #008080; text-decoration-color: #008080; font-weight: bold\">6</span>\n",
       "</pre>\n"
      ],
      "text/plain": [
       "Part \u001b[1;36m2\u001b[0m - Sample: \u001b[1;36m6\u001b[0m\n"
      ]
     },
     "metadata": {},
     "output_type": "display_data"
    },
    {
     "data": {
      "text/html": [
       "<pre style=\"white-space:pre;overflow-x:auto;line-height:normal;font-family:Menlo,'DejaVu Sans Mono',consolas,'Courier New',monospace\">Part <span style=\"color: #008080; text-decoration-color: #008080; font-weight: bold\">2</span> - Actual: <span style=\"color: #008080; text-decoration-color: #008080; font-weight: bold\">1424</span>\n",
       "</pre>\n"
      ],
      "text/plain": [
       "Part \u001b[1;36m2\u001b[0m - Actual: \u001b[1;36m1424\u001b[0m\n"
      ]
     },
     "metadata": {},
     "output_type": "display_data"
    }
   ],
   "source": [
    "print(f'Part 2 - Sample: {solution_2(sample_input)}')\n",
    "print(f'Part 2 - Actual: {solution_2(actual_input)}')\n"
   ]
  },
  {
   "cell_type": "code",
   "execution_count": null,
   "metadata": {},
   "outputs": [],
   "source": []
  }
 ],
 "metadata": {
  "kernelspec": {
   "display_name": ".venv",
   "language": "python",
   "name": "python3"
  },
  "language_info": {
   "codemirror_mode": {
    "name": "ipython",
    "version": 3
   },
   "file_extension": ".py",
   "mimetype": "text/x-python",
   "name": "python",
   "nbconvert_exporter": "python",
   "pygments_lexer": "ipython3",
   "version": "3.12.7"
  }
 },
 "nbformat": 4,
 "nbformat_minor": 2
}
