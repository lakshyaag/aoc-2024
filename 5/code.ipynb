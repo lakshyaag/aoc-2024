{
 "cells": [
  {
   "cell_type": "markdown",
   "metadata": {},
   "source": [
    "## Advent of Code 2024 - Day 5"
   ]
  },
  {
   "cell_type": "code",
   "execution_count": 1,
   "metadata": {},
   "outputs": [],
   "source": [
    "from rich import print\n",
    "from httpx import request\n",
    "import os\n",
    "\n",
    "from itertools import combinations\n",
    "from functools import cmp_to_key\n",
    "\n",
    "%load_ext rich"
   ]
  },
  {
   "cell_type": "code",
   "execution_count": 2,
   "metadata": {},
   "outputs": [],
   "source": [
    "def parse_input(path):\n",
    "    # Read file and split into lines\n",
    "    with open(path, \"r\") as file:\n",
    "        result = file.read()\n",
    "    \n",
    "    part1, part2 = result.split(\"\\n\\n\")\n",
    "\n",
    "    return (part1.split(\"\\n\"), part2.split(\"\\n\"))\n"
   ]
  },
  {
   "cell_type": "code",
   "execution_count": 3,
   "metadata": {},
   "outputs": [],
   "source": [
    "sample_input = parse_input(\"sample.txt\")\n",
    "actual_input = parse_input(\"input.txt\")"
   ]
  },
  {
   "cell_type": "markdown",
   "metadata": {},
   "source": [
    "## Part 1"
   ]
  },
  {
   "cell_type": "code",
   "execution_count": 4,
   "metadata": {},
   "outputs": [
    {
     "data": {
      "text/html": [
       "<pre style=\"white-space:pre;overflow-x:auto;line-height:normal;font-family:Menlo,'DejaVu Sans Mono',consolas,'Courier New',monospace\"></pre>\n"
      ],
      "text/plain": []
     },
     "metadata": {},
     "output_type": "display_data"
    },
    {
     "data": {
      "text/plain": [
       "\n",
       "\u001b[1m(\u001b[0m\n",
       "    \u001b[1m[\u001b[0m\n",
       "        \u001b[32m'47|53'\u001b[0m,\n",
       "        \u001b[32m'97|13'\u001b[0m,\n",
       "        \u001b[32m'97|61'\u001b[0m,\n",
       "        \u001b[32m'97|47'\u001b[0m,\n",
       "        \u001b[32m'75|29'\u001b[0m,\n",
       "        \u001b[32m'61|13'\u001b[0m,\n",
       "        \u001b[32m'75|53'\u001b[0m,\n",
       "        \u001b[32m'29|13'\u001b[0m,\n",
       "        \u001b[32m'97|29'\u001b[0m,\n",
       "        \u001b[32m'53|29'\u001b[0m,\n",
       "        \u001b[32m'61|53'\u001b[0m,\n",
       "        \u001b[32m'97|53'\u001b[0m,\n",
       "        \u001b[32m'61|29'\u001b[0m,\n",
       "        \u001b[32m'47|13'\u001b[0m,\n",
       "        \u001b[32m'75|47'\u001b[0m,\n",
       "        \u001b[32m'97|75'\u001b[0m,\n",
       "        \u001b[32m'47|61'\u001b[0m,\n",
       "        \u001b[32m'75|61'\u001b[0m,\n",
       "        \u001b[32m'47|29'\u001b[0m,\n",
       "        \u001b[32m'75|13'\u001b[0m,\n",
       "        \u001b[32m'53|13'\u001b[0m\n",
       "    \u001b[1m]\u001b[0m,\n",
       "    \u001b[1m[\u001b[0m\u001b[32m'75,47,61,53,29'\u001b[0m, \u001b[32m'97,61,53,29,13'\u001b[0m, \u001b[32m'75,29,13'\u001b[0m, \u001b[32m'75,97,47,61,53'\u001b[0m, \u001b[32m'61,13,29'\u001b[0m, \u001b[32m'97,13,75,29,47'\u001b[0m\u001b[1m]\u001b[0m\n",
       "\u001b[1m)\u001b[0m"
      ]
     },
     "execution_count": 4,
     "metadata": {},
     "output_type": "execute_result"
    }
   ],
   "source": [
    "sample_input"
   ]
  },
  {
   "cell_type": "code",
   "execution_count": 5,
   "metadata": {},
   "outputs": [],
   "source": [
    "def solution_1(input):\n",
    "    conditions = []\n",
    "    for line in input[0]:\n",
    "        condition = line.split(\"|\")\n",
    "        conditions.append([int(condition[0]), int(condition[1])])\n",
    "\n",
    "    pages_to_produce = [[int(x) for x in line.split(\",\")] for line in input[1]]\n",
    "    correctly_ordered_pages = []\n",
    "\n",
    "    for page in pages_to_produce:\n",
    "        page_combos = list(combinations(page, 2))\n",
    "\n",
    "        enabled = True\n",
    "        for combo in page_combos:\n",
    "            relevant_conditions = [\n",
    "                condition\n",
    "                for condition in conditions\n",
    "                if condition[0] == combo[0]\n",
    "                or condition[0] == combo[1]\n",
    "                or condition[1] == combo[0]\n",
    "                or condition[1] == combo[1]\n",
    "            ]\n",
    "\n",
    "            for condition in relevant_conditions:\n",
    "                if condition[0] == combo[0] and condition[1] == combo[1]:\n",
    "                    # print(combo, \"matched\")\n",
    "                    break\n",
    "\n",
    "                elif condition[0] == combo[1] and condition[1] == combo[0]:\n",
    "                    # print(combo, \"reverse true, not allowed\")\n",
    "                    enabled = False\n",
    "                    break\n",
    "\n",
    "        if enabled:\n",
    "            correctly_ordered_pages.append(page)\n",
    "\n",
    "    middle_pages = [x[(len(x) // 2)] for x in correctly_ordered_pages]\n",
    "\n",
    "    return sum(middle_pages)"
   ]
  },
  {
   "cell_type": "code",
   "execution_count": 6,
   "metadata": {},
   "outputs": [
    {
     "data": {
      "text/html": [
       "<pre style=\"white-space:pre;overflow-x:auto;line-height:normal;font-family:Menlo,'DejaVu Sans Mono',consolas,'Courier New',monospace\">Part <span style=\"color: #008080; text-decoration-color: #008080; font-weight: bold\">1</span> - Sample: <span style=\"color: #008080; text-decoration-color: #008080; font-weight: bold\">143</span>\n",
       "</pre>\n"
      ],
      "text/plain": [
       "Part \u001b[1;36m1\u001b[0m - Sample: \u001b[1;36m143\u001b[0m\n"
      ]
     },
     "metadata": {},
     "output_type": "display_data"
    },
    {
     "data": {
      "text/html": [
       "<pre style=\"white-space:pre;overflow-x:auto;line-height:normal;font-family:Menlo,'DejaVu Sans Mono',consolas,'Courier New',monospace\">Part <span style=\"color: #008080; text-decoration-color: #008080; font-weight: bold\">1</span> - Actual: <span style=\"color: #008080; text-decoration-color: #008080; font-weight: bold\">3608</span>\n",
       "</pre>\n"
      ],
      "text/plain": [
       "Part \u001b[1;36m1\u001b[0m - Actual: \u001b[1;36m3608\u001b[0m\n"
      ]
     },
     "metadata": {},
     "output_type": "display_data"
    }
   ],
   "source": [
    "print(f'Part 1 - Sample: {solution_1(sample_input)}')\n",
    "print(f'Part 1 - Actual: {solution_1(actual_input)}')\n"
   ]
  },
  {
   "cell_type": "markdown",
   "metadata": {},
   "source": [
    "## Part 2"
   ]
  },
  {
   "cell_type": "code",
   "execution_count": 7,
   "metadata": {},
   "outputs": [
    {
     "data": {
      "text/html": [
       "<pre style=\"white-space:pre;overflow-x:auto;line-height:normal;font-family:Menlo,'DejaVu Sans Mono',consolas,'Courier New',monospace\"></pre>\n"
      ],
      "text/plain": []
     },
     "metadata": {},
     "output_type": "display_data"
    },
    {
     "data": {
      "text/plain": [
       "\n",
       "\u001b[1m(\u001b[0m\n",
       "    \u001b[1m[\u001b[0m\n",
       "        \u001b[32m'47|53'\u001b[0m,\n",
       "        \u001b[32m'97|13'\u001b[0m,\n",
       "        \u001b[32m'97|61'\u001b[0m,\n",
       "        \u001b[32m'97|47'\u001b[0m,\n",
       "        \u001b[32m'75|29'\u001b[0m,\n",
       "        \u001b[32m'61|13'\u001b[0m,\n",
       "        \u001b[32m'75|53'\u001b[0m,\n",
       "        \u001b[32m'29|13'\u001b[0m,\n",
       "        \u001b[32m'97|29'\u001b[0m,\n",
       "        \u001b[32m'53|29'\u001b[0m,\n",
       "        \u001b[32m'61|53'\u001b[0m,\n",
       "        \u001b[32m'97|53'\u001b[0m,\n",
       "        \u001b[32m'61|29'\u001b[0m,\n",
       "        \u001b[32m'47|13'\u001b[0m,\n",
       "        \u001b[32m'75|47'\u001b[0m,\n",
       "        \u001b[32m'97|75'\u001b[0m,\n",
       "        \u001b[32m'47|61'\u001b[0m,\n",
       "        \u001b[32m'75|61'\u001b[0m,\n",
       "        \u001b[32m'47|29'\u001b[0m,\n",
       "        \u001b[32m'75|13'\u001b[0m,\n",
       "        \u001b[32m'53|13'\u001b[0m\n",
       "    \u001b[1m]\u001b[0m,\n",
       "    \u001b[1m[\u001b[0m\u001b[32m'75,47,61,53,29'\u001b[0m, \u001b[32m'97,61,53,29,13'\u001b[0m, \u001b[32m'75,29,13'\u001b[0m, \u001b[32m'75,97,47,61,53'\u001b[0m, \u001b[32m'61,13,29'\u001b[0m, \u001b[32m'97,13,75,29,47'\u001b[0m\u001b[1m]\u001b[0m\n",
       "\u001b[1m)\u001b[0m"
      ]
     },
     "execution_count": 7,
     "metadata": {},
     "output_type": "execute_result"
    }
   ],
   "source": [
    "sample_input"
   ]
  },
  {
   "cell_type": "code",
   "execution_count": 8,
   "metadata": {},
   "outputs": [],
   "source": [
    "def solution_2(input):\n",
    "    conditions = []\n",
    "    for line in input[0]:\n",
    "        condition = line.split(\"|\")\n",
    "        conditions.append([int(condition[0]), int(condition[1])])\n",
    "\n",
    "    pages_to_produce = [[int(x) for x in line.split(\",\")] for line in input[1]]\n",
    "    incorrectly_ordered_pages = []\n",
    "\n",
    "    for page in pages_to_produce:\n",
    "        page_combos = list(combinations(page, 2))\n",
    "\n",
    "        # print(f'Page: {page}')\n",
    "\n",
    "        enabled = True\n",
    "        for combo in page_combos:\n",
    "            relevant_conditions = [\n",
    "                condition\n",
    "                for condition in conditions\n",
    "                if condition[0] == combo[0]\n",
    "                or condition[0] == combo[1]\n",
    "                or condition[1] == combo[0]\n",
    "                or condition[1] == combo[1]\n",
    "            ]\n",
    "\n",
    "            for condition in relevant_conditions:\n",
    "                if condition[0] == combo[0] and condition[1] == combo[1]:\n",
    "                    # print(combo, \"matched\")\n",
    "                    break\n",
    "\n",
    "                elif condition[0] == combo[1] and condition[1] == combo[0]:\n",
    "                    # print(combo, \"reverse true, not allowed\", condition)\n",
    "                    enabled = False\n",
    "                    break\n",
    "\n",
    "        if not enabled:\n",
    "            incorrectly_ordered_pages.append(page)\n",
    "\n",
    "    cmp = lambda p, q: -1 if [p, q] in conditions else 0\n",
    "\n",
    "    reordered_pages = []\n",
    "\n",
    "    for page in incorrectly_ordered_pages:\n",
    "        # print(f\"Page: {sorted(page, key=cmp_to_key(cmp))}\")\n",
    "        reordered_pages.append(sorted(page, key=cmp_to_key(cmp)))\n",
    "\n",
    "    middle_pages = [x[(len(x) // 2)] for x in reordered_pages]\n",
    "\n",
    "    return sum(middle_pages)"
   ]
  },
  {
   "cell_type": "code",
   "execution_count": 9,
   "metadata": {},
   "outputs": [
    {
     "data": {
      "text/html": [
       "<pre style=\"white-space:pre;overflow-x:auto;line-height:normal;font-family:Menlo,'DejaVu Sans Mono',consolas,'Courier New',monospace\">Part <span style=\"color: #008080; text-decoration-color: #008080; font-weight: bold\">2</span> - Sample: <span style=\"color: #008080; text-decoration-color: #008080; font-weight: bold\">123</span>\n",
       "</pre>\n"
      ],
      "text/plain": [
       "Part \u001b[1;36m2\u001b[0m - Sample: \u001b[1;36m123\u001b[0m\n"
      ]
     },
     "metadata": {},
     "output_type": "display_data"
    },
    {
     "data": {
      "text/html": [
       "<pre style=\"white-space:pre;overflow-x:auto;line-height:normal;font-family:Menlo,'DejaVu Sans Mono',consolas,'Courier New',monospace\">Part <span style=\"color: #008080; text-decoration-color: #008080; font-weight: bold\">2</span> - Actual: <span style=\"color: #008080; text-decoration-color: #008080; font-weight: bold\">4922</span>\n",
       "</pre>\n"
      ],
      "text/plain": [
       "Part \u001b[1;36m2\u001b[0m - Actual: \u001b[1;36m4922\u001b[0m\n"
      ]
     },
     "metadata": {},
     "output_type": "display_data"
    }
   ],
   "source": [
    "print(f'Part 2 - Sample: {solution_2(sample_input)}')\n",
    "print(f'Part 2 - Actual: {solution_2(actual_input)}')\n"
   ]
  }
 ],
 "metadata": {
  "kernelspec": {
   "display_name": ".venv",
   "language": "python",
   "name": "python3"
  },
  "language_info": {
   "codemirror_mode": {
    "name": "ipython",
    "version": 3
   },
   "file_extension": ".py",
   "mimetype": "text/x-python",
   "name": "python",
   "nbconvert_exporter": "python",
   "pygments_lexer": "ipython3",
   "version": "3.12.7"
  }
 },
 "nbformat": 4,
 "nbformat_minor": 2
}
