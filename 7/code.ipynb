{
 "cells": [
  {
   "cell_type": "markdown",
   "metadata": {},
   "source": [
    "## Advent of Code 2024 - Day 7"
   ]
  },
  {
   "cell_type": "code",
   "execution_count": 1,
   "metadata": {},
   "outputs": [],
   "source": [
    "from rich import print\n",
    "from httpx import request\n",
    "import os\n",
    "\n",
    "from itertools import product\n",
    "\n",
    "%load_ext rich"
   ]
  },
  {
   "cell_type": "code",
   "execution_count": 2,
   "metadata": {},
   "outputs": [],
   "source": [
    "def parse_input(path):\n",
    "    # Read file and split into lines\n",
    "    with open(path, \"r\") as file:\n",
    "        result = file.read().splitlines()\n",
    "    # Optional: Remove any empty lines if needed\n",
    "    return [line for line in result if line.strip()]"
   ]
  },
  {
   "cell_type": "code",
   "execution_count": 3,
   "metadata": {},
   "outputs": [],
   "source": [
    "sample_input = parse_input(\"sample.txt\")\n",
    "actual_input = parse_input(\"input.txt\")"
   ]
  },
  {
   "cell_type": "markdown",
   "metadata": {},
   "source": [
    "## Part 1"
   ]
  },
  {
   "cell_type": "code",
   "execution_count": 4,
   "metadata": {},
   "outputs": [],
   "source": [
    "VALID_OPERATIONS = {\n",
    "    \"add\": lambda x, y: x + y,\n",
    "    \"mul\": lambda x, y: x * y,\n",
    "}"
   ]
  },
  {
   "cell_type": "code",
   "execution_count": 5,
   "metadata": {},
   "outputs": [
    {
     "data": {
      "text/html": [
       "<pre style=\"white-space:pre;overflow-x:auto;line-height:normal;font-family:Menlo,'DejaVu Sans Mono',consolas,'Courier New',monospace\"></pre>\n"
      ],
      "text/plain": []
     },
     "metadata": {},
     "output_type": "display_data"
    },
    {
     "data": {
      "text/plain": [
       "\n",
       "\u001b[1m[\u001b[0m\n",
       "    \u001b[32m'190: 10 19'\u001b[0m,\n",
       "    \u001b[32m'3267: 81 40 27'\u001b[0m,\n",
       "    \u001b[32m'83: 17 5'\u001b[0m,\n",
       "    \u001b[32m'156: 15 6'\u001b[0m,\n",
       "    \u001b[32m'7290: 6 8 6 15'\u001b[0m,\n",
       "    \u001b[32m'161011: 16 10 13'\u001b[0m,\n",
       "    \u001b[32m'192: 17 8 14'\u001b[0m,\n",
       "    \u001b[32m'21037: 9 7 18 13'\u001b[0m,\n",
       "    \u001b[32m'292: 11 6 16 20'\u001b[0m\n",
       "\u001b[1m]\u001b[0m"
      ]
     },
     "execution_count": 5,
     "metadata": {},
     "output_type": "execute_result"
    }
   ],
   "source": [
    "sample_input\n"
   ]
  },
  {
   "cell_type": "code",
   "execution_count": 6,
   "metadata": {},
   "outputs": [],
   "source": [
    "def solution_1(input):\n",
    "    numbers = list(\n",
    "        map(\n",
    "            lambda line: [\n",
    "                int(line.split(\": \")[0]),\n",
    "                list(map(int, line.split(\": \")[1].split())),\n",
    "            ],\n",
    "            input,\n",
    "        )\n",
    "    )\n",
    "\n",
    "    total = 0\n",
    "    for line in numbers:\n",
    "        # print(f\"line: {line}\")\n",
    "        test_number, possible_inputs = line[0], line[1]\n",
    "\n",
    "        operator_combinations = list(\n",
    "            product(VALID_OPERATIONS, repeat=len(possible_inputs) - 1)\n",
    "        )\n",
    "\n",
    "        # print(f\"operator_combinations: {operator_combinations}\")\n",
    "\n",
    "        correct_op_orders = []\n",
    "        for operator_combination in operator_combinations:\n",
    "            # print(f\"trying {operator_combination}\")\n",
    "            cum_value = possible_inputs[0]\n",
    "            for i, (op, num) in enumerate(\n",
    "                zip(operator_combination, possible_inputs[1:])\n",
    "            ):\n",
    "                cum_value = VALID_OPERATIONS[op](cum_value, num)\n",
    "\n",
    "                if cum_value > test_number:\n",
    "                    break\n",
    "\n",
    "                if cum_value == test_number:\n",
    "                    correct_op_orders.append(operator_combination)\n",
    "                    total += test_number\n",
    "                    break\n",
    "\n",
    "            if len(correct_op_orders) > 0:\n",
    "                break\n",
    "\n",
    "    return total"
   ]
  },
  {
   "cell_type": "code",
   "execution_count": 7,
   "metadata": {},
   "outputs": [
    {
     "data": {
      "text/html": [
       "<pre style=\"white-space:pre;overflow-x:auto;line-height:normal;font-family:Menlo,'DejaVu Sans Mono',consolas,'Courier New',monospace\">Part <span style=\"color: #008080; text-decoration-color: #008080; font-weight: bold\">1</span> - Sample: <span style=\"color: #008080; text-decoration-color: #008080; font-weight: bold\">3749</span>\n",
       "</pre>\n"
      ],
      "text/plain": [
       "Part \u001b[1;36m1\u001b[0m - Sample: \u001b[1;36m3749\u001b[0m\n"
      ]
     },
     "metadata": {},
     "output_type": "display_data"
    },
    {
     "data": {
      "text/html": [
       "<pre style=\"white-space:pre;overflow-x:auto;line-height:normal;font-family:Menlo,'DejaVu Sans Mono',consolas,'Courier New',monospace\">Part <span style=\"color: #008080; text-decoration-color: #008080; font-weight: bold\">1</span> - Actual: <span style=\"color: #008080; text-decoration-color: #008080; font-weight: bold\">1985268524462</span>\n",
       "</pre>\n"
      ],
      "text/plain": [
       "Part \u001b[1;36m1\u001b[0m - Actual: \u001b[1;36m1985268524462\u001b[0m\n"
      ]
     },
     "metadata": {},
     "output_type": "display_data"
    }
   ],
   "source": [
    "print(f'Part 1 - Sample: {solution_1(sample_input)}')\n",
    "print(f'Part 1 - Actual: {solution_1(actual_input)}')\n"
   ]
  },
  {
   "cell_type": "markdown",
   "metadata": {},
   "source": [
    "## Part 2"
   ]
  },
  {
   "cell_type": "code",
   "execution_count": 14,
   "metadata": {},
   "outputs": [],
   "source": [
    "VALID_OPERATIONS = {\n",
    "    \"add\": lambda x, y: x + y,\n",
    "    \"mul\": lambda x, y: x * y,\n",
    "    \"concat\": lambda x, y: int(f\"{x}{y}\"),\n",
    "}"
   ]
  },
  {
   "cell_type": "code",
   "execution_count": 15,
   "metadata": {},
   "outputs": [
    {
     "data": {
      "text/html": [
       "<pre style=\"white-space:pre;overflow-x:auto;line-height:normal;font-family:Menlo,'DejaVu Sans Mono',consolas,'Courier New',monospace\"></pre>\n"
      ],
      "text/plain": []
     },
     "metadata": {},
     "output_type": "display_data"
    },
    {
     "data": {
      "text/plain": [
       "\n",
       "\u001b[1m[\u001b[0m\n",
       "    \u001b[32m'190: 10 19'\u001b[0m,\n",
       "    \u001b[32m'3267: 81 40 27'\u001b[0m,\n",
       "    \u001b[32m'83: 17 5'\u001b[0m,\n",
       "    \u001b[32m'156: 15 6'\u001b[0m,\n",
       "    \u001b[32m'7290: 6 8 6 15'\u001b[0m,\n",
       "    \u001b[32m'161011: 16 10 13'\u001b[0m,\n",
       "    \u001b[32m'192: 17 8 14'\u001b[0m,\n",
       "    \u001b[32m'21037: 9 7 18 13'\u001b[0m,\n",
       "    \u001b[32m'292: 11 6 16 20'\u001b[0m\n",
       "\u001b[1m]\u001b[0m"
      ]
     },
     "execution_count": 15,
     "metadata": {},
     "output_type": "execute_result"
    }
   ],
   "source": [
    "sample_input"
   ]
  },
  {
   "cell_type": "code",
   "execution_count": 16,
   "metadata": {},
   "outputs": [],
   "source": [
    "def solution_2(input):\n",
    "    numbers = list(\n",
    "        map(\n",
    "            lambda line: [\n",
    "                int(line.split(\":\")[0]),\n",
    "                list(map(int, line.split(\":\")[1].strip().split())),\n",
    "            ],\n",
    "            input,\n",
    "        )\n",
    "    )\n",
    "\n",
    "    total = 0\n",
    "    for i, line in enumerate(numbers):\n",
    "        test_number, possible_inputs = line[0], line[1]\n",
    "\n",
    "        operator_combinations = list(\n",
    "            product(VALID_OPERATIONS, repeat=len(possible_inputs) - 1)\n",
    "        )\n",
    "\n",
    "        correct_op_orders = []\n",
    "        for operator_combination in operator_combinations:\n",
    "            cum_value = possible_inputs[0]\n",
    "            for j, (op, num) in enumerate(\n",
    "                zip(operator_combination, possible_inputs[1:])\n",
    "            ):\n",
    "                cum_value = VALID_OPERATIONS[op](cum_value, num)\n",
    "\n",
    "                if cum_value > test_number:\n",
    "                    break\n",
    "\n",
    "                if cum_value == test_number:\n",
    "                    correct_op_orders.append(operator_combination)\n",
    "                    total += test_number\n",
    "                    break\n",
    "\n",
    "            if len(correct_op_orders) > 0:\n",
    "                break\n",
    "\n",
    "    return total"
   ]
  },
  {
   "cell_type": "code",
   "execution_count": 17,
   "metadata": {},
   "outputs": [
    {
     "data": {
      "text/html": [
       "<pre style=\"white-space:pre;overflow-x:auto;line-height:normal;font-family:Menlo,'DejaVu Sans Mono',consolas,'Courier New',monospace\">Part <span style=\"color: #008080; text-decoration-color: #008080; font-weight: bold\">2</span> - Sample: <span style=\"color: #008080; text-decoration-color: #008080; font-weight: bold\">11387</span>\n",
       "</pre>\n"
      ],
      "text/plain": [
       "Part \u001b[1;36m2\u001b[0m - Sample: \u001b[1;36m11387\u001b[0m\n"
      ]
     },
     "metadata": {},
     "output_type": "display_data"
    },
    {
     "data": {
      "text/html": [
       "<pre style=\"white-space:pre;overflow-x:auto;line-height:normal;font-family:Menlo,'DejaVu Sans Mono',consolas,'Courier New',monospace\">Part <span style=\"color: #008080; text-decoration-color: #008080; font-weight: bold\">2</span> - Actual: <span style=\"color: #008080; text-decoration-color: #008080; font-weight: bold\">150077713310053</span>\n",
       "</pre>\n"
      ],
      "text/plain": [
       "Part \u001b[1;36m2\u001b[0m - Actual: \u001b[1;36m150077713310053\u001b[0m\n"
      ]
     },
     "metadata": {},
     "output_type": "display_data"
    }
   ],
   "source": [
    "print(f'Part 2 - Sample: {solution_2(sample_input)}')\n",
    "\n",
    "# This is incorrect for some reason\n",
    "print(f'Part 2 - Actual: {solution_2(actual_input)}')\n"
   ]
  }
 ],
 "metadata": {
  "kernelspec": {
   "display_name": ".venv",
   "language": "python",
   "name": "python3"
  },
  "language_info": {
   "codemirror_mode": {
    "name": "ipython",
    "version": 3
   },
   "file_extension": ".py",
   "mimetype": "text/x-python",
   "name": "python",
   "nbconvert_exporter": "python",
   "pygments_lexer": "ipython3",
   "version": "3.12.7"
  }
 },
 "nbformat": 4,
 "nbformat_minor": 2
}
